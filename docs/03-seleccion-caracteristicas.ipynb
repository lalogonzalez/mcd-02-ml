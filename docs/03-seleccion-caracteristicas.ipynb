{
 "cells": [
  {
   "cell_type": "markdown",
   "metadata": {},
   "source": [
    "## Universidad Autonoma de Nuevo León\n",
    "## Facultad de Ciencias Físico Matemáticas\n",
    "### Maestría en Ciencia de Datos\n",
    "### Aprendizaje Automático\n",
    "#### Eduardo David González Flores\n",
    "##### 1515489"
   ]
  },
  {
   "cell_type": "markdown",
   "metadata": {},
   "source": [
    "## Tarea (8 puntos)\n",
    "- Aplica los modelos de selección de características cuidando los supuestos de cada modelo\n",
    "- Busca una o varias métricas para seleccionar características en literatura relacionada con tu problema (cita tus fuentes)\n",
    "- Con base en tu investigación, determina las características más relevantes de tu conjunto de datos\n",
    "- Discute por qué crees que las características seleccionadas son las más relevantes y por qué el resto quedaron excluidas en la selección"
   ]
  },
  {
   "cell_type": "code",
   "execution_count": null,
   "metadata": {},
   "outputs": [],
   "source": []
  }
 ],
 "metadata": {
  "language_info": {
   "name": "python"
  }
 },
 "nbformat": 4,
 "nbformat_minor": 2
}
