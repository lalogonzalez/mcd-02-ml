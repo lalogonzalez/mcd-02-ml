{
 "cells": [
  {
   "cell_type": "markdown",
   "metadata": {},
   "source": [
    "## Universidad Autonoma de Nuevo León\n",
    "## Facultad de Ciencias Físico Matemáticas\n",
    "### Maestría en Ciencia de Datos\n",
    "### Aprendizaje Automático\n",
    "#### Eduardo David González Flores\n",
    "##### 1515489"
   ]
  },
  {
   "cell_type": "markdown",
   "metadata": {},
   "source": [
    "## Tarea en clase (2 puntos)\n",
    "- Crear funciones para calcular las medidas de tendencia central y de dispersión con Python puro (sin librerías)\n",
    "- Comprueba si tus variables de interés son conjuntos de datos paramétricos o no paramétricos"
   ]
  },
  {
   "cell_type": "code",
   "execution_count": null,
   "metadata": {},
   "outputs": [],
   "source": []
  }
 ],
 "metadata": {
  "language_info": {
   "name": "python"
  }
 },
 "nbformat": 4,
 "nbformat_minor": 2
}
