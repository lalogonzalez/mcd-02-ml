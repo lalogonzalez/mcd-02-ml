{
 "cells": [
  {
   "cell_type": "markdown",
   "metadata": {},
   "source": [
    "## Universidad Autonoma de Nuevo León\n",
    "## Facultad de Ciencias Físico Matemáticas\n",
    "### Maestría en Ciencia de Datos\n",
    "### Aprendizaje Automático\n",
    "#### Eduardo David González Flores\n",
    "##### 1515489"
   ]
  },
  {
   "cell_type": "markdown",
   "metadata": {},
   "source": [
    "## Tarea (8 puntos)\n",
    "\n",
    "- Definir un conjunto de datos sobre el que se trabajará durante el curso\n",
    "- Justificar su elección\n",
    "- Establecer objetivos a lograr en el curso\n",
    "- Subir explicación en el repositorio en un cuaderno de Jupyter"
   ]
  },
  {
   "cell_type": "code",
   "execution_count": null,
   "metadata": {},
   "outputs": [],
   "source": [
    "# Importación de librerías\n",
    "import pandas as pd\n",
    "import numpy as np\n",
    "import matplotlib.pyplot as plt\n",
    "import seaborn as sns\n",
    "from sklearn.linear_model import LinearRegression\n",
    "import matplotlib.pyplot as plt\n",
    "from sklearn.metrics import r2_score"
   ]
  },
  {
   "cell_type": "code",
   "execution_count": null,
   "metadata": {},
   "outputs": [],
   "source": [
    "#Lectura de datos\n",
    "data = pd.read_csv('./data.csv')"
   ]
  },
  {
   "cell_type": "code",
   "execution_count": null,
   "metadata": {},
   "outputs": [],
   "source": [
    "data[['x', 'y']].head()"
   ]
  },
  {
   "cell_type": "code",
   "execution_count": null,
   "metadata": {},
   "outputs": [],
   "source": [
    "data.plot.scatter(x='x',y='y')\n",
    "plt.show()"
   ]
  },
  {
   "cell_type": "code",
   "execution_count": null,
   "metadata": {},
   "outputs": [],
   "source": [
    "modelo = LinearRegression() \n",
    "modelo.fit(data[['x']], data['y']) \n",
    "print ('Ecuación de la recta: y = ', round(modelo.coef_[0],3),'x + ', round(modelo.intercept_,3))\n",
    "print ('Coeficiente de correlación: ', round(np.corrcoef(data['x'], data['y'])[0,1], 3))\n",
    "print ('Coeficiente de determinación: ', round(r2_score(data['y'], modelo.predict(data[['x']])), 3))\n",
    "\n",
    "sns.regplot(x=data['x'], y=data['y'], ci=95, line_kws={\"color\": \"red\"}, scatter_kws={\"color\": \"black\"})\n",
    "plt.title('Regresión lineal simple con intervalo de confianza al 95%') \n",
    "plt.show()"
   ]
  },
  {
   "cell_type": "code",
   "execution_count": null,
   "metadata": {},
   "outputs": [],
   "source": []
  }
 ],
 "metadata": {
  "language_info": {
   "name": "python"
  }
 },
 "nbformat": 4,
 "nbformat_minor": 2
}
