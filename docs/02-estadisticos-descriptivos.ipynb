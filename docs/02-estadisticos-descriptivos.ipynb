{
 "cells": [
  {
   "cell_type": "markdown",
   "metadata": {},
   "source": [
    "## Universidad Autonoma de Nuevo León\n",
    "## Facultad de Ciencias Físico Matemáticas\n",
    "### Maestría en Ciencia de Datos\n",
    "### Aprendizaje Automático\n",
    "#### Eduardo David González Flores\n",
    "##### 1515489"
   ]
  },
  {
   "cell_type": "markdown",
   "metadata": {},
   "source": [
    "## Tarea (8 puntos)\n",
    "- Calcula estadísticos descriptivos básicos para tus datos\n",
    "- Haz una matriz de correlación de tus datos y escribe algunas interpretaciones de la misma\n",
    "- Realiza alguna prueba de hipótesis a partir de las conclusiones que hayas sacado de la matriz de correlación\n",
    "- Presenta tus resultados gráficamente"
   ]
  },
  {
   "cell_type": "code",
   "execution_count": null,
   "metadata": {},
   "outputs": [],
   "source": []
  }
 ],
 "metadata": {
  "language_info": {
   "name": "python"
  }
 },
 "nbformat": 4,
 "nbformat_minor": 2
}
