{
 "cells": [
  {
   "cell_type": "markdown",
   "metadata": {},
   "source": [
    "## Universidad Autonoma de Nuevo León\n",
    "## Facultad de Ciencias Físico Matemáticas\n",
    "### Maestría en Ciencia de Datos\n",
    "### Aprendizaje Automático\n",
    "#### Eduardo David González Flores\n",
    "##### 1515489"
   ]
  },
  {
   "cell_type": "markdown",
   "metadata": {},
   "source": [
    "## Tarea (10 puntos)\n",
    "- Investigar sobre algoritmos supervisados que puedan aplicarse a tu problema. Da un panorama sobre el modelo matemático que emplean y explica por qué conviene utilizarlo\n",
    "- Investigar sobre métricas para analizar los errores de tus datos y discutirla (generalmente se usan MAE, MAPE, RMSE, MSE...)\n",
    "- Aplicar al menos un algoritmo supervisado a tus datos para predecir alguna variable (puede ser interpolación o extrapolación)\n",
    "- Actualiza literatura relacionada, metodología, resultados y discusión en tu artículo\n",
    "- Sube el código de tu tarea, los archivos de Latex y el PDF del artículo en tu repositorio, claramente diferenciados"
   ]
  },
  {
   "cell_type": "code",
   "execution_count": 104,
   "metadata": {},
   "outputs": [
    {
     "data": {
      "text/html": [
       "<div>\n",
       "<style scoped>\n",
       "    .dataframe tbody tr th:only-of-type {\n",
       "        vertical-align: middle;\n",
       "    }\n",
       "\n",
       "    .dataframe tbody tr th {\n",
       "        vertical-align: top;\n",
       "    }\n",
       "\n",
       "    .dataframe thead th {\n",
       "        text-align: right;\n",
       "    }\n",
       "</style>\n",
       "<table border=\"1\" class=\"dataframe\">\n",
       "  <thead>\n",
       "    <tr style=\"text-align: right;\">\n",
       "      <th></th>\n",
       "      <th>customer_id</th>\n",
       "      <th>credit_score</th>\n",
       "      <th>age</th>\n",
       "      <th>tenure</th>\n",
       "      <th>balance</th>\n",
       "      <th>products_number</th>\n",
       "      <th>credit_card</th>\n",
       "      <th>active_member</th>\n",
       "      <th>estimated_salary</th>\n",
       "      <th>churn</th>\n",
       "      <th>country_Germany</th>\n",
       "      <th>country_Spain</th>\n",
       "      <th>gender_Male</th>\n",
       "      <th>k</th>\n",
       "    </tr>\n",
       "  </thead>\n",
       "  <tbody>\n",
       "    <tr>\n",
       "      <th>0</th>\n",
       "      <td>15634602</td>\n",
       "      <td>619</td>\n",
       "      <td>42</td>\n",
       "      <td>2</td>\n",
       "      <td>0.00</td>\n",
       "      <td>1</td>\n",
       "      <td>1</td>\n",
       "      <td>1</td>\n",
       "      <td>101348.88</td>\n",
       "      <td>1</td>\n",
       "      <td>0</td>\n",
       "      <td>0</td>\n",
       "      <td>0</td>\n",
       "      <td>3</td>\n",
       "    </tr>\n",
       "    <tr>\n",
       "      <th>1</th>\n",
       "      <td>15647311</td>\n",
       "      <td>608</td>\n",
       "      <td>41</td>\n",
       "      <td>1</td>\n",
       "      <td>83807.86</td>\n",
       "      <td>1</td>\n",
       "      <td>0</td>\n",
       "      <td>1</td>\n",
       "      <td>112542.58</td>\n",
       "      <td>0</td>\n",
       "      <td>0</td>\n",
       "      <td>1</td>\n",
       "      <td>0</td>\n",
       "      <td>0</td>\n",
       "    </tr>\n",
       "    <tr>\n",
       "      <th>2</th>\n",
       "      <td>15619304</td>\n",
       "      <td>502</td>\n",
       "      <td>42</td>\n",
       "      <td>8</td>\n",
       "      <td>159660.80</td>\n",
       "      <td>3</td>\n",
       "      <td>1</td>\n",
       "      <td>0</td>\n",
       "      <td>113931.57</td>\n",
       "      <td>1</td>\n",
       "      <td>0</td>\n",
       "      <td>0</td>\n",
       "      <td>0</td>\n",
       "      <td>0</td>\n",
       "    </tr>\n",
       "    <tr>\n",
       "      <th>3</th>\n",
       "      <td>15701354</td>\n",
       "      <td>699</td>\n",
       "      <td>39</td>\n",
       "      <td>1</td>\n",
       "      <td>0.00</td>\n",
       "      <td>2</td>\n",
       "      <td>0</td>\n",
       "      <td>0</td>\n",
       "      <td>93826.63</td>\n",
       "      <td>0</td>\n",
       "      <td>0</td>\n",
       "      <td>0</td>\n",
       "      <td>0</td>\n",
       "      <td>1</td>\n",
       "    </tr>\n",
       "    <tr>\n",
       "      <th>4</th>\n",
       "      <td>15737888</td>\n",
       "      <td>850</td>\n",
       "      <td>43</td>\n",
       "      <td>2</td>\n",
       "      <td>125510.82</td>\n",
       "      <td>1</td>\n",
       "      <td>1</td>\n",
       "      <td>1</td>\n",
       "      <td>79084.10</td>\n",
       "      <td>0</td>\n",
       "      <td>0</td>\n",
       "      <td>1</td>\n",
       "      <td>0</td>\n",
       "      <td>2</td>\n",
       "    </tr>\n",
       "    <tr>\n",
       "      <th>...</th>\n",
       "      <td>...</td>\n",
       "      <td>...</td>\n",
       "      <td>...</td>\n",
       "      <td>...</td>\n",
       "      <td>...</td>\n",
       "      <td>...</td>\n",
       "      <td>...</td>\n",
       "      <td>...</td>\n",
       "      <td>...</td>\n",
       "      <td>...</td>\n",
       "      <td>...</td>\n",
       "      <td>...</td>\n",
       "      <td>...</td>\n",
       "      <td>...</td>\n",
       "    </tr>\n",
       "    <tr>\n",
       "      <th>9995</th>\n",
       "      <td>15606229</td>\n",
       "      <td>771</td>\n",
       "      <td>39</td>\n",
       "      <td>5</td>\n",
       "      <td>0.00</td>\n",
       "      <td>2</td>\n",
       "      <td>1</td>\n",
       "      <td>0</td>\n",
       "      <td>96270.64</td>\n",
       "      <td>0</td>\n",
       "      <td>0</td>\n",
       "      <td>0</td>\n",
       "      <td>1</td>\n",
       "      <td>1</td>\n",
       "    </tr>\n",
       "    <tr>\n",
       "      <th>9996</th>\n",
       "      <td>15569892</td>\n",
       "      <td>516</td>\n",
       "      <td>35</td>\n",
       "      <td>10</td>\n",
       "      <td>57369.61</td>\n",
       "      <td>1</td>\n",
       "      <td>1</td>\n",
       "      <td>1</td>\n",
       "      <td>101699.77</td>\n",
       "      <td>0</td>\n",
       "      <td>0</td>\n",
       "      <td>0</td>\n",
       "      <td>1</td>\n",
       "      <td>3</td>\n",
       "    </tr>\n",
       "    <tr>\n",
       "      <th>9997</th>\n",
       "      <td>15584532</td>\n",
       "      <td>709</td>\n",
       "      <td>36</td>\n",
       "      <td>7</td>\n",
       "      <td>0.00</td>\n",
       "      <td>1</td>\n",
       "      <td>0</td>\n",
       "      <td>1</td>\n",
       "      <td>42085.58</td>\n",
       "      <td>1</td>\n",
       "      <td>0</td>\n",
       "      <td>0</td>\n",
       "      <td>0</td>\n",
       "      <td>1</td>\n",
       "    </tr>\n",
       "    <tr>\n",
       "      <th>9998</th>\n",
       "      <td>15682355</td>\n",
       "      <td>772</td>\n",
       "      <td>42</td>\n",
       "      <td>3</td>\n",
       "      <td>75075.31</td>\n",
       "      <td>2</td>\n",
       "      <td>1</td>\n",
       "      <td>0</td>\n",
       "      <td>92888.52</td>\n",
       "      <td>1</td>\n",
       "      <td>1</td>\n",
       "      <td>0</td>\n",
       "      <td>1</td>\n",
       "      <td>2</td>\n",
       "    </tr>\n",
       "    <tr>\n",
       "      <th>9999</th>\n",
       "      <td>15628319</td>\n",
       "      <td>792</td>\n",
       "      <td>28</td>\n",
       "      <td>4</td>\n",
       "      <td>130142.79</td>\n",
       "      <td>1</td>\n",
       "      <td>1</td>\n",
       "      <td>0</td>\n",
       "      <td>38190.78</td>\n",
       "      <td>0</td>\n",
       "      <td>0</td>\n",
       "      <td>0</td>\n",
       "      <td>0</td>\n",
       "      <td>2</td>\n",
       "    </tr>\n",
       "  </tbody>\n",
       "</table>\n",
       "<p>10000 rows × 14 columns</p>\n",
       "</div>"
      ],
      "text/plain": [
       "      customer_id  credit_score  age  tenure    balance  products_number  \\\n",
       "0        15634602           619   42       2       0.00                1   \n",
       "1        15647311           608   41       1   83807.86                1   \n",
       "2        15619304           502   42       8  159660.80                3   \n",
       "3        15701354           699   39       1       0.00                2   \n",
       "4        15737888           850   43       2  125510.82                1   \n",
       "...           ...           ...  ...     ...        ...              ...   \n",
       "9995     15606229           771   39       5       0.00                2   \n",
       "9996     15569892           516   35      10   57369.61                1   \n",
       "9997     15584532           709   36       7       0.00                1   \n",
       "9998     15682355           772   42       3   75075.31                2   \n",
       "9999     15628319           792   28       4  130142.79                1   \n",
       "\n",
       "      credit_card  active_member  estimated_salary  churn  country_Germany  \\\n",
       "0               1              1         101348.88      1                0   \n",
       "1               0              1         112542.58      0                0   \n",
       "2               1              0         113931.57      1                0   \n",
       "3               0              0          93826.63      0                0   \n",
       "4               1              1          79084.10      0                0   \n",
       "...           ...            ...               ...    ...              ...   \n",
       "9995            1              0          96270.64      0                0   \n",
       "9996            1              1         101699.77      0                0   \n",
       "9997            0              1          42085.58      1                0   \n",
       "9998            1              0          92888.52      1                1   \n",
       "9999            1              0          38190.78      0                0   \n",
       "\n",
       "      country_Spain  gender_Male  k  \n",
       "0                 0            0  3  \n",
       "1                 1            0  0  \n",
       "2                 0            0  0  \n",
       "3                 0            0  1  \n",
       "4                 1            0  2  \n",
       "...             ...          ... ..  \n",
       "9995              0            1  1  \n",
       "9996              0            1  3  \n",
       "9997              0            0  1  \n",
       "9998              0            1  2  \n",
       "9999              0            0  2  \n",
       "\n",
       "[10000 rows x 14 columns]"
      ]
     },
     "execution_count": 104,
     "metadata": {},
     "output_type": "execute_result"
    }
   ],
   "source": [
    "import pandas as pd\n",
    "\n",
    "#file_path = '../data/churn.csv'\n",
    "file_path = '../data/churn_dummy_clusters.csv'\n",
    "\n",
    "df_og = pd.read_csv(file_path)\n",
    "df_og"
   ]
  },
  {
   "cell_type": "code",
   "execution_count": 105,
   "metadata": {},
   "outputs": [
    {
     "data": {
      "text/html": [
       "<div>\n",
       "<style scoped>\n",
       "    .dataframe tbody tr th:only-of-type {\n",
       "        vertical-align: middle;\n",
       "    }\n",
       "\n",
       "    .dataframe tbody tr th {\n",
       "        vertical-align: top;\n",
       "    }\n",
       "\n",
       "    .dataframe thead th {\n",
       "        text-align: right;\n",
       "    }\n",
       "</style>\n",
       "<table border=\"1\" class=\"dataframe\">\n",
       "  <thead>\n",
       "    <tr style=\"text-align: right;\">\n",
       "      <th></th>\n",
       "      <th>credit_score</th>\n",
       "      <th>age</th>\n",
       "      <th>tenure</th>\n",
       "      <th>balance</th>\n",
       "      <th>products_number</th>\n",
       "      <th>credit_card</th>\n",
       "      <th>active_member</th>\n",
       "      <th>estimated_salary</th>\n",
       "      <th>churn</th>\n",
       "      <th>country_Germany</th>\n",
       "      <th>country_Spain</th>\n",
       "      <th>gender_Male</th>\n",
       "      <th>k</th>\n",
       "    </tr>\n",
       "  </thead>\n",
       "  <tbody>\n",
       "    <tr>\n",
       "      <th>0</th>\n",
       "      <td>619</td>\n",
       "      <td>42</td>\n",
       "      <td>2</td>\n",
       "      <td>0.00</td>\n",
       "      <td>1</td>\n",
       "      <td>1</td>\n",
       "      <td>1</td>\n",
       "      <td>101348.88</td>\n",
       "      <td>1</td>\n",
       "      <td>0</td>\n",
       "      <td>0</td>\n",
       "      <td>0</td>\n",
       "      <td>3</td>\n",
       "    </tr>\n",
       "    <tr>\n",
       "      <th>1</th>\n",
       "      <td>608</td>\n",
       "      <td>41</td>\n",
       "      <td>1</td>\n",
       "      <td>83807.86</td>\n",
       "      <td>1</td>\n",
       "      <td>0</td>\n",
       "      <td>1</td>\n",
       "      <td>112542.58</td>\n",
       "      <td>0</td>\n",
       "      <td>0</td>\n",
       "      <td>1</td>\n",
       "      <td>0</td>\n",
       "      <td>0</td>\n",
       "    </tr>\n",
       "    <tr>\n",
       "      <th>2</th>\n",
       "      <td>502</td>\n",
       "      <td>42</td>\n",
       "      <td>8</td>\n",
       "      <td>159660.80</td>\n",
       "      <td>3</td>\n",
       "      <td>1</td>\n",
       "      <td>0</td>\n",
       "      <td>113931.57</td>\n",
       "      <td>1</td>\n",
       "      <td>0</td>\n",
       "      <td>0</td>\n",
       "      <td>0</td>\n",
       "      <td>0</td>\n",
       "    </tr>\n",
       "    <tr>\n",
       "      <th>3</th>\n",
       "      <td>699</td>\n",
       "      <td>39</td>\n",
       "      <td>1</td>\n",
       "      <td>0.00</td>\n",
       "      <td>2</td>\n",
       "      <td>0</td>\n",
       "      <td>0</td>\n",
       "      <td>93826.63</td>\n",
       "      <td>0</td>\n",
       "      <td>0</td>\n",
       "      <td>0</td>\n",
       "      <td>0</td>\n",
       "      <td>1</td>\n",
       "    </tr>\n",
       "    <tr>\n",
       "      <th>4</th>\n",
       "      <td>850</td>\n",
       "      <td>43</td>\n",
       "      <td>2</td>\n",
       "      <td>125510.82</td>\n",
       "      <td>1</td>\n",
       "      <td>1</td>\n",
       "      <td>1</td>\n",
       "      <td>79084.10</td>\n",
       "      <td>0</td>\n",
       "      <td>0</td>\n",
       "      <td>1</td>\n",
       "      <td>0</td>\n",
       "      <td>2</td>\n",
       "    </tr>\n",
       "    <tr>\n",
       "      <th>...</th>\n",
       "      <td>...</td>\n",
       "      <td>...</td>\n",
       "      <td>...</td>\n",
       "      <td>...</td>\n",
       "      <td>...</td>\n",
       "      <td>...</td>\n",
       "      <td>...</td>\n",
       "      <td>...</td>\n",
       "      <td>...</td>\n",
       "      <td>...</td>\n",
       "      <td>...</td>\n",
       "      <td>...</td>\n",
       "      <td>...</td>\n",
       "    </tr>\n",
       "    <tr>\n",
       "      <th>9995</th>\n",
       "      <td>771</td>\n",
       "      <td>39</td>\n",
       "      <td>5</td>\n",
       "      <td>0.00</td>\n",
       "      <td>2</td>\n",
       "      <td>1</td>\n",
       "      <td>0</td>\n",
       "      <td>96270.64</td>\n",
       "      <td>0</td>\n",
       "      <td>0</td>\n",
       "      <td>0</td>\n",
       "      <td>1</td>\n",
       "      <td>1</td>\n",
       "    </tr>\n",
       "    <tr>\n",
       "      <th>9996</th>\n",
       "      <td>516</td>\n",
       "      <td>35</td>\n",
       "      <td>10</td>\n",
       "      <td>57369.61</td>\n",
       "      <td>1</td>\n",
       "      <td>1</td>\n",
       "      <td>1</td>\n",
       "      <td>101699.77</td>\n",
       "      <td>0</td>\n",
       "      <td>0</td>\n",
       "      <td>0</td>\n",
       "      <td>1</td>\n",
       "      <td>3</td>\n",
       "    </tr>\n",
       "    <tr>\n",
       "      <th>9997</th>\n",
       "      <td>709</td>\n",
       "      <td>36</td>\n",
       "      <td>7</td>\n",
       "      <td>0.00</td>\n",
       "      <td>1</td>\n",
       "      <td>0</td>\n",
       "      <td>1</td>\n",
       "      <td>42085.58</td>\n",
       "      <td>1</td>\n",
       "      <td>0</td>\n",
       "      <td>0</td>\n",
       "      <td>0</td>\n",
       "      <td>1</td>\n",
       "    </tr>\n",
       "    <tr>\n",
       "      <th>9998</th>\n",
       "      <td>772</td>\n",
       "      <td>42</td>\n",
       "      <td>3</td>\n",
       "      <td>75075.31</td>\n",
       "      <td>2</td>\n",
       "      <td>1</td>\n",
       "      <td>0</td>\n",
       "      <td>92888.52</td>\n",
       "      <td>1</td>\n",
       "      <td>1</td>\n",
       "      <td>0</td>\n",
       "      <td>1</td>\n",
       "      <td>2</td>\n",
       "    </tr>\n",
       "    <tr>\n",
       "      <th>9999</th>\n",
       "      <td>792</td>\n",
       "      <td>28</td>\n",
       "      <td>4</td>\n",
       "      <td>130142.79</td>\n",
       "      <td>1</td>\n",
       "      <td>1</td>\n",
       "      <td>0</td>\n",
       "      <td>38190.78</td>\n",
       "      <td>0</td>\n",
       "      <td>0</td>\n",
       "      <td>0</td>\n",
       "      <td>0</td>\n",
       "      <td>2</td>\n",
       "    </tr>\n",
       "  </tbody>\n",
       "</table>\n",
       "<p>10000 rows × 13 columns</p>\n",
       "</div>"
      ],
      "text/plain": [
       "      credit_score  age  tenure    balance  products_number  credit_card  \\\n",
       "0              619   42       2       0.00                1            1   \n",
       "1              608   41       1   83807.86                1            0   \n",
       "2              502   42       8  159660.80                3            1   \n",
       "3              699   39       1       0.00                2            0   \n",
       "4              850   43       2  125510.82                1            1   \n",
       "...            ...  ...     ...        ...              ...          ...   \n",
       "9995           771   39       5       0.00                2            1   \n",
       "9996           516   35      10   57369.61                1            1   \n",
       "9997           709   36       7       0.00                1            0   \n",
       "9998           772   42       3   75075.31                2            1   \n",
       "9999           792   28       4  130142.79                1            1   \n",
       "\n",
       "      active_member  estimated_salary  churn  country_Germany  country_Spain  \\\n",
       "0                 1         101348.88      1                0              0   \n",
       "1                 1         112542.58      0                0              1   \n",
       "2                 0         113931.57      1                0              0   \n",
       "3                 0          93826.63      0                0              0   \n",
       "4                 1          79084.10      0                0              1   \n",
       "...             ...               ...    ...              ...            ...   \n",
       "9995              0          96270.64      0                0              0   \n",
       "9996              1         101699.77      0                0              0   \n",
       "9997              1          42085.58      1                0              0   \n",
       "9998              0          92888.52      1                1              0   \n",
       "9999              0          38190.78      0                0              0   \n",
       "\n",
       "      gender_Male  k  \n",
       "0               0  3  \n",
       "1               0  0  \n",
       "2               0  0  \n",
       "3               0  1  \n",
       "4               0  2  \n",
       "...           ... ..  \n",
       "9995            1  1  \n",
       "9996            1  3  \n",
       "9997            0  1  \n",
       "9998            1  2  \n",
       "9999            0  2  \n",
       "\n",
       "[10000 rows x 13 columns]"
      ]
     },
     "execution_count": 105,
     "metadata": {},
     "output_type": "execute_result"
    }
   ],
   "source": [
    "df = df_og.drop(['customer_id'], axis=1)\n",
    "df"
   ]
  },
  {
   "cell_type": "code",
   "execution_count": 106,
   "metadata": {},
   "outputs": [
    {
     "data": {
      "text/html": [
       "<style type=\"text/css\">\n",
       "#T_bc57c_row8_col1 {\n",
       "  background-color: lightgreen;\n",
       "}\n",
       "</style>\n",
       "<table id=\"T_bc57c\">\n",
       "  <thead>\n",
       "    <tr>\n",
       "      <th class=\"blank level0\" >&nbsp;</th>\n",
       "      <th id=\"T_bc57c_level0_col0\" class=\"col_heading level0 col0\" >Description</th>\n",
       "      <th id=\"T_bc57c_level0_col1\" class=\"col_heading level0 col1\" >Value</th>\n",
       "    </tr>\n",
       "  </thead>\n",
       "  <tbody>\n",
       "    <tr>\n",
       "      <th id=\"T_bc57c_level0_row0\" class=\"row_heading level0 row0\" >0</th>\n",
       "      <td id=\"T_bc57c_row0_col0\" class=\"data row0 col0\" >Session id</td>\n",
       "      <td id=\"T_bc57c_row0_col1\" class=\"data row0 col1\" >123</td>\n",
       "    </tr>\n",
       "    <tr>\n",
       "      <th id=\"T_bc57c_level0_row1\" class=\"row_heading level0 row1\" >1</th>\n",
       "      <td id=\"T_bc57c_row1_col0\" class=\"data row1 col0\" >Target</td>\n",
       "      <td id=\"T_bc57c_row1_col1\" class=\"data row1 col1\" >churn</td>\n",
       "    </tr>\n",
       "    <tr>\n",
       "      <th id=\"T_bc57c_level0_row2\" class=\"row_heading level0 row2\" >2</th>\n",
       "      <td id=\"T_bc57c_row2_col0\" class=\"data row2 col0\" >Target type</td>\n",
       "      <td id=\"T_bc57c_row2_col1\" class=\"data row2 col1\" >Binary</td>\n",
       "    </tr>\n",
       "    <tr>\n",
       "      <th id=\"T_bc57c_level0_row3\" class=\"row_heading level0 row3\" >3</th>\n",
       "      <td id=\"T_bc57c_row3_col0\" class=\"data row3 col0\" >Original data shape</td>\n",
       "      <td id=\"T_bc57c_row3_col1\" class=\"data row3 col1\" >(10000, 13)</td>\n",
       "    </tr>\n",
       "    <tr>\n",
       "      <th id=\"T_bc57c_level0_row4\" class=\"row_heading level0 row4\" >4</th>\n",
       "      <td id=\"T_bc57c_row4_col0\" class=\"data row4 col0\" >Transformed data shape</td>\n",
       "      <td id=\"T_bc57c_row4_col1\" class=\"data row4 col1\" >(10000, 13)</td>\n",
       "    </tr>\n",
       "    <tr>\n",
       "      <th id=\"T_bc57c_level0_row5\" class=\"row_heading level0 row5\" >5</th>\n",
       "      <td id=\"T_bc57c_row5_col0\" class=\"data row5 col0\" >Transformed train set shape</td>\n",
       "      <td id=\"T_bc57c_row5_col1\" class=\"data row5 col1\" >(7000, 13)</td>\n",
       "    </tr>\n",
       "    <tr>\n",
       "      <th id=\"T_bc57c_level0_row6\" class=\"row_heading level0 row6\" >6</th>\n",
       "      <td id=\"T_bc57c_row6_col0\" class=\"data row6 col0\" >Transformed test set shape</td>\n",
       "      <td id=\"T_bc57c_row6_col1\" class=\"data row6 col1\" >(3000, 13)</td>\n",
       "    </tr>\n",
       "    <tr>\n",
       "      <th id=\"T_bc57c_level0_row7\" class=\"row_heading level0 row7\" >7</th>\n",
       "      <td id=\"T_bc57c_row7_col0\" class=\"data row7 col0\" >Numeric features</td>\n",
       "      <td id=\"T_bc57c_row7_col1\" class=\"data row7 col1\" >12</td>\n",
       "    </tr>\n",
       "    <tr>\n",
       "      <th id=\"T_bc57c_level0_row8\" class=\"row_heading level0 row8\" >8</th>\n",
       "      <td id=\"T_bc57c_row8_col0\" class=\"data row8 col0\" >Preprocess</td>\n",
       "      <td id=\"T_bc57c_row8_col1\" class=\"data row8 col1\" >True</td>\n",
       "    </tr>\n",
       "    <tr>\n",
       "      <th id=\"T_bc57c_level0_row9\" class=\"row_heading level0 row9\" >9</th>\n",
       "      <td id=\"T_bc57c_row9_col0\" class=\"data row9 col0\" >Imputation type</td>\n",
       "      <td id=\"T_bc57c_row9_col1\" class=\"data row9 col1\" >simple</td>\n",
       "    </tr>\n",
       "    <tr>\n",
       "      <th id=\"T_bc57c_level0_row10\" class=\"row_heading level0 row10\" >10</th>\n",
       "      <td id=\"T_bc57c_row10_col0\" class=\"data row10 col0\" >Numeric imputation</td>\n",
       "      <td id=\"T_bc57c_row10_col1\" class=\"data row10 col1\" >mean</td>\n",
       "    </tr>\n",
       "    <tr>\n",
       "      <th id=\"T_bc57c_level0_row11\" class=\"row_heading level0 row11\" >11</th>\n",
       "      <td id=\"T_bc57c_row11_col0\" class=\"data row11 col0\" >Categorical imputation</td>\n",
       "      <td id=\"T_bc57c_row11_col1\" class=\"data row11 col1\" >mode</td>\n",
       "    </tr>\n",
       "    <tr>\n",
       "      <th id=\"T_bc57c_level0_row12\" class=\"row_heading level0 row12\" >12</th>\n",
       "      <td id=\"T_bc57c_row12_col0\" class=\"data row12 col0\" >Fold Generator</td>\n",
       "      <td id=\"T_bc57c_row12_col1\" class=\"data row12 col1\" >StratifiedKFold</td>\n",
       "    </tr>\n",
       "    <tr>\n",
       "      <th id=\"T_bc57c_level0_row13\" class=\"row_heading level0 row13\" >13</th>\n",
       "      <td id=\"T_bc57c_row13_col0\" class=\"data row13 col0\" >Fold Number</td>\n",
       "      <td id=\"T_bc57c_row13_col1\" class=\"data row13 col1\" >10</td>\n",
       "    </tr>\n",
       "    <tr>\n",
       "      <th id=\"T_bc57c_level0_row14\" class=\"row_heading level0 row14\" >14</th>\n",
       "      <td id=\"T_bc57c_row14_col0\" class=\"data row14 col0\" >CPU Jobs</td>\n",
       "      <td id=\"T_bc57c_row14_col1\" class=\"data row14 col1\" >-1</td>\n",
       "    </tr>\n",
       "    <tr>\n",
       "      <th id=\"T_bc57c_level0_row15\" class=\"row_heading level0 row15\" >15</th>\n",
       "      <td id=\"T_bc57c_row15_col0\" class=\"data row15 col0\" >Use GPU</td>\n",
       "      <td id=\"T_bc57c_row15_col1\" class=\"data row15 col1\" >False</td>\n",
       "    </tr>\n",
       "    <tr>\n",
       "      <th id=\"T_bc57c_level0_row16\" class=\"row_heading level0 row16\" >16</th>\n",
       "      <td id=\"T_bc57c_row16_col0\" class=\"data row16 col0\" >Log Experiment</td>\n",
       "      <td id=\"T_bc57c_row16_col1\" class=\"data row16 col1\" >False</td>\n",
       "    </tr>\n",
       "    <tr>\n",
       "      <th id=\"T_bc57c_level0_row17\" class=\"row_heading level0 row17\" >17</th>\n",
       "      <td id=\"T_bc57c_row17_col0\" class=\"data row17 col0\" >Experiment Name</td>\n",
       "      <td id=\"T_bc57c_row17_col1\" class=\"data row17 col1\" >clf-default-name</td>\n",
       "    </tr>\n",
       "    <tr>\n",
       "      <th id=\"T_bc57c_level0_row18\" class=\"row_heading level0 row18\" >18</th>\n",
       "      <td id=\"T_bc57c_row18_col0\" class=\"data row18 col0\" >USI</td>\n",
       "      <td id=\"T_bc57c_row18_col1\" class=\"data row18 col1\" >3d03</td>\n",
       "    </tr>\n",
       "  </tbody>\n",
       "</table>\n"
      ],
      "text/plain": [
       "<pandas.io.formats.style.Styler at 0x7f33100f6020>"
      ]
     },
     "metadata": {},
     "output_type": "display_data"
    },
    {
     "data": {
      "text/plain": [
       "<pycaret.classification.oop.ClassificationExperiment at 0x7f3323293880>"
      ]
     },
     "execution_count": 106,
     "metadata": {},
     "output_type": "execute_result"
    }
   ],
   "source": [
    "from pycaret.classification import *\n",
    "s = setup(df, target='churn', session_id=123)\n",
    "s"
   ]
  },
  {
   "cell_type": "code",
   "execution_count": 107,
   "metadata": {},
   "outputs": [
    {
     "data": {
      "text/html": [],
      "text/plain": [
       "<IPython.core.display.HTML object>"
      ]
     },
     "metadata": {},
     "output_type": "display_data"
    },
    {
     "data": {
      "text/html": [
       "<style type=\"text/css\">\n",
       "#T_3ecdc th {\n",
       "  text-align: left;\n",
       "}\n",
       "#T_3ecdc_row0_col0, #T_3ecdc_row0_col1, #T_3ecdc_row0_col2, #T_3ecdc_row0_col3, #T_3ecdc_row0_col4, #T_3ecdc_row1_col0, #T_3ecdc_row1_col3, #T_3ecdc_row1_col5, #T_3ecdc_row1_col6, #T_3ecdc_row1_col7, #T_3ecdc_row2_col0, #T_3ecdc_row2_col1, #T_3ecdc_row2_col2, #T_3ecdc_row2_col3, #T_3ecdc_row2_col4, #T_3ecdc_row2_col5, #T_3ecdc_row2_col6, #T_3ecdc_row2_col7, #T_3ecdc_row3_col0, #T_3ecdc_row3_col1, #T_3ecdc_row3_col2, #T_3ecdc_row3_col3, #T_3ecdc_row3_col4, #T_3ecdc_row3_col5, #T_3ecdc_row3_col6, #T_3ecdc_row3_col7, #T_3ecdc_row4_col0, #T_3ecdc_row4_col1, #T_3ecdc_row4_col2, #T_3ecdc_row4_col3, #T_3ecdc_row4_col4, #T_3ecdc_row4_col5, #T_3ecdc_row4_col6, #T_3ecdc_row4_col7, #T_3ecdc_row5_col0, #T_3ecdc_row5_col1, #T_3ecdc_row5_col2, #T_3ecdc_row5_col3, #T_3ecdc_row5_col4, #T_3ecdc_row5_col5, #T_3ecdc_row5_col6, #T_3ecdc_row5_col7, #T_3ecdc_row6_col0, #T_3ecdc_row6_col1, #T_3ecdc_row6_col2, #T_3ecdc_row6_col3, #T_3ecdc_row6_col4, #T_3ecdc_row6_col5, #T_3ecdc_row6_col6, #T_3ecdc_row6_col7, #T_3ecdc_row7_col0, #T_3ecdc_row7_col1, #T_3ecdc_row7_col2, #T_3ecdc_row7_col4, #T_3ecdc_row7_col5, #T_3ecdc_row7_col6, #T_3ecdc_row7_col7, #T_3ecdc_row8_col0, #T_3ecdc_row8_col1, #T_3ecdc_row8_col2, #T_3ecdc_row8_col3, #T_3ecdc_row8_col4, #T_3ecdc_row8_col5, #T_3ecdc_row8_col6, #T_3ecdc_row8_col7, #T_3ecdc_row9_col0, #T_3ecdc_row9_col1, #T_3ecdc_row9_col2, #T_3ecdc_row9_col3, #T_3ecdc_row9_col4, #T_3ecdc_row9_col5, #T_3ecdc_row9_col6, #T_3ecdc_row9_col7, #T_3ecdc_row10_col0, #T_3ecdc_row10_col1, #T_3ecdc_row10_col2, #T_3ecdc_row10_col3, #T_3ecdc_row10_col4, #T_3ecdc_row10_col5, #T_3ecdc_row10_col6, #T_3ecdc_row10_col7, #T_3ecdc_row11_col0, #T_3ecdc_row11_col1, #T_3ecdc_row11_col2, #T_3ecdc_row11_col3, #T_3ecdc_row11_col4, #T_3ecdc_row11_col5, #T_3ecdc_row11_col6, #T_3ecdc_row11_col7, #T_3ecdc_row12_col0, #T_3ecdc_row12_col1, #T_3ecdc_row12_col2, #T_3ecdc_row12_col3, #T_3ecdc_row12_col4, #T_3ecdc_row12_col5, #T_3ecdc_row12_col6, #T_3ecdc_row12_col7, #T_3ecdc_row13_col0, #T_3ecdc_row13_col1, #T_3ecdc_row13_col2, #T_3ecdc_row13_col3, #T_3ecdc_row13_col4, #T_3ecdc_row13_col5, #T_3ecdc_row13_col6, #T_3ecdc_row13_col7, #T_3ecdc_row14_col0, #T_3ecdc_row14_col1, #T_3ecdc_row14_col2, #T_3ecdc_row14_col3, #T_3ecdc_row14_col4, #T_3ecdc_row14_col5, #T_3ecdc_row14_col6, #T_3ecdc_row14_col7 {\n",
       "  text-align: left;\n",
       "}\n",
       "#T_3ecdc_row0_col5, #T_3ecdc_row0_col6, #T_3ecdc_row0_col7, #T_3ecdc_row1_col1, #T_3ecdc_row1_col2, #T_3ecdc_row1_col4, #T_3ecdc_row7_col3 {\n",
       "  text-align: left;\n",
       "  background-color: yellow;\n",
       "}\n",
       "#T_3ecdc_row0_col8, #T_3ecdc_row1_col8, #T_3ecdc_row2_col8, #T_3ecdc_row3_col8, #T_3ecdc_row4_col8, #T_3ecdc_row5_col8, #T_3ecdc_row7_col8, #T_3ecdc_row8_col8, #T_3ecdc_row9_col8, #T_3ecdc_row10_col8, #T_3ecdc_row11_col8, #T_3ecdc_row12_col8, #T_3ecdc_row13_col8, #T_3ecdc_row14_col8 {\n",
       "  text-align: left;\n",
       "  background-color: lightgrey;\n",
       "}\n",
       "#T_3ecdc_row6_col8 {\n",
       "  text-align: left;\n",
       "  background-color: yellow;\n",
       "  background-color: lightgrey;\n",
       "}\n",
       "</style>\n",
       "<table id=\"T_3ecdc\">\n",
       "  <thead>\n",
       "    <tr>\n",
       "      <th class=\"blank level0\" >&nbsp;</th>\n",
       "      <th id=\"T_3ecdc_level0_col0\" class=\"col_heading level0 col0\" >Model</th>\n",
       "      <th id=\"T_3ecdc_level0_col1\" class=\"col_heading level0 col1\" >Accuracy</th>\n",
       "      <th id=\"T_3ecdc_level0_col2\" class=\"col_heading level0 col2\" >AUC</th>\n",
       "      <th id=\"T_3ecdc_level0_col3\" class=\"col_heading level0 col3\" >Recall</th>\n",
       "      <th id=\"T_3ecdc_level0_col4\" class=\"col_heading level0 col4\" >Prec.</th>\n",
       "      <th id=\"T_3ecdc_level0_col5\" class=\"col_heading level0 col5\" >F1</th>\n",
       "      <th id=\"T_3ecdc_level0_col6\" class=\"col_heading level0 col6\" >Kappa</th>\n",
       "      <th id=\"T_3ecdc_level0_col7\" class=\"col_heading level0 col7\" >MCC</th>\n",
       "      <th id=\"T_3ecdc_level0_col8\" class=\"col_heading level0 col8\" >TT (Sec)</th>\n",
       "    </tr>\n",
       "  </thead>\n",
       "  <tbody>\n",
       "    <tr>\n",
       "      <th id=\"T_3ecdc_level0_row0\" class=\"row_heading level0 row0\" >catboost</th>\n",
       "      <td id=\"T_3ecdc_row0_col0\" class=\"data row0 col0\" >CatBoost Classifier</td>\n",
       "      <td id=\"T_3ecdc_row0_col1\" class=\"data row0 col1\" >0.8616</td>\n",
       "      <td id=\"T_3ecdc_row0_col2\" class=\"data row0 col2\" >0.8571</td>\n",
       "      <td id=\"T_3ecdc_row0_col3\" class=\"data row0 col3\" >0.4818</td>\n",
       "      <td id=\"T_3ecdc_row0_col4\" class=\"data row0 col4\" >0.7516</td>\n",
       "      <td id=\"T_3ecdc_row0_col5\" class=\"data row0 col5\" >0.5860</td>\n",
       "      <td id=\"T_3ecdc_row0_col6\" class=\"data row0 col6\" >0.5077</td>\n",
       "      <td id=\"T_3ecdc_row0_col7\" class=\"data row0 col7\" >0.5265</td>\n",
       "      <td id=\"T_3ecdc_row0_col8\" class=\"data row0 col8\" >3.7690</td>\n",
       "    </tr>\n",
       "    <tr>\n",
       "      <th id=\"T_3ecdc_level0_row1\" class=\"row_heading level0 row1\" >gbc</th>\n",
       "      <td id=\"T_3ecdc_row1_col0\" class=\"data row1 col0\" >Gradient Boosting Classifier</td>\n",
       "      <td id=\"T_3ecdc_row1_col1\" class=\"data row1 col1\" >0.8621</td>\n",
       "      <td id=\"T_3ecdc_row1_col2\" class=\"data row1 col2\" >0.8618</td>\n",
       "      <td id=\"T_3ecdc_row1_col3\" class=\"data row1 col3\" >0.4650</td>\n",
       "      <td id=\"T_3ecdc_row1_col4\" class=\"data row1 col4\" >0.7693</td>\n",
       "      <td id=\"T_3ecdc_row1_col5\" class=\"data row1 col5\" >0.5787</td>\n",
       "      <td id=\"T_3ecdc_row1_col6\" class=\"data row1 col6\" >0.5023</td>\n",
       "      <td id=\"T_3ecdc_row1_col7\" class=\"data row1 col7\" >0.5255</td>\n",
       "      <td id=\"T_3ecdc_row1_col8\" class=\"data row1 col8\" >0.1220</td>\n",
       "    </tr>\n",
       "    <tr>\n",
       "      <th id=\"T_3ecdc_level0_row2\" class=\"row_heading level0 row2\" >rf</th>\n",
       "      <td id=\"T_3ecdc_row2_col0\" class=\"data row2 col0\" >Random Forest Classifier</td>\n",
       "      <td id=\"T_3ecdc_row2_col1\" class=\"data row2 col1\" >0.8584</td>\n",
       "      <td id=\"T_3ecdc_row2_col2\" class=\"data row2 col2\" >0.8430</td>\n",
       "      <td id=\"T_3ecdc_row2_col3\" class=\"data row2 col3\" >0.4432</td>\n",
       "      <td id=\"T_3ecdc_row2_col4\" class=\"data row2 col4\" >0.7638</td>\n",
       "      <td id=\"T_3ecdc_row2_col5\" class=\"data row2 col5\" >0.5605</td>\n",
       "      <td id=\"T_3ecdc_row2_col6\" class=\"data row2 col6\" >0.4831</td>\n",
       "      <td id=\"T_3ecdc_row2_col7\" class=\"data row2 col7\" >0.5088</td>\n",
       "      <td id=\"T_3ecdc_row2_col8\" class=\"data row2 col8\" >0.1270</td>\n",
       "    </tr>\n",
       "    <tr>\n",
       "      <th id=\"T_3ecdc_level0_row3\" class=\"row_heading level0 row3\" >ada</th>\n",
       "      <td id=\"T_3ecdc_row3_col0\" class=\"data row3 col0\" >Ada Boost Classifier</td>\n",
       "      <td id=\"T_3ecdc_row3_col1\" class=\"data row3 col1\" >0.8531</td>\n",
       "      <td id=\"T_3ecdc_row3_col2\" class=\"data row3 col2\" >0.8429</td>\n",
       "      <td id=\"T_3ecdc_row3_col3\" class=\"data row3 col3\" >0.4552</td>\n",
       "      <td id=\"T_3ecdc_row3_col4\" class=\"data row3 col4\" >0.7238</td>\n",
       "      <td id=\"T_3ecdc_row3_col5\" class=\"data row3 col5\" >0.5578</td>\n",
       "      <td id=\"T_3ecdc_row3_col6\" class=\"data row3 col6\" >0.4753</td>\n",
       "      <td id=\"T_3ecdc_row3_col7\" class=\"data row3 col7\" >0.4942</td>\n",
       "      <td id=\"T_3ecdc_row3_col8\" class=\"data row3 col8\" >0.0490</td>\n",
       "    </tr>\n",
       "    <tr>\n",
       "      <th id=\"T_3ecdc_level0_row4\" class=\"row_heading level0 row4\" >xgboost</th>\n",
       "      <td id=\"T_3ecdc_row4_col0\" class=\"data row4 col0\" >Extreme Gradient Boosting</td>\n",
       "      <td id=\"T_3ecdc_row4_col1\" class=\"data row4 col1\" >0.8471</td>\n",
       "      <td id=\"T_3ecdc_row4_col2\" class=\"data row4 col2\" >0.8283</td>\n",
       "      <td id=\"T_3ecdc_row4_col3\" class=\"data row4 col3\" >0.4812</td>\n",
       "      <td id=\"T_3ecdc_row4_col4\" class=\"data row4 col4\" >0.6759</td>\n",
       "      <td id=\"T_3ecdc_row4_col5\" class=\"data row4 col5\" >0.5614</td>\n",
       "      <td id=\"T_3ecdc_row4_col6\" class=\"data row4 col6\" >0.4721</td>\n",
       "      <td id=\"T_3ecdc_row4_col7\" class=\"data row4 col7\" >0.4825</td>\n",
       "      <td id=\"T_3ecdc_row4_col8\" class=\"data row4 col8\" >0.0730</td>\n",
       "    </tr>\n",
       "    <tr>\n",
       "      <th id=\"T_3ecdc_level0_row5\" class=\"row_heading level0 row5\" >et</th>\n",
       "      <td id=\"T_3ecdc_row5_col0\" class=\"data row5 col0\" >Extra Trees Classifier</td>\n",
       "      <td id=\"T_3ecdc_row5_col1\" class=\"data row5 col1\" >0.8501</td>\n",
       "      <td id=\"T_3ecdc_row5_col2\" class=\"data row5 col2\" >0.8380</td>\n",
       "      <td id=\"T_3ecdc_row5_col3\" class=\"data row5 col3\" >0.4208</td>\n",
       "      <td id=\"T_3ecdc_row5_col4\" class=\"data row5 col4\" >0.7298</td>\n",
       "      <td id=\"T_3ecdc_row5_col5\" class=\"data row5 col5\" >0.5333</td>\n",
       "      <td id=\"T_3ecdc_row5_col6\" class=\"data row5 col6\" >0.4517</td>\n",
       "      <td id=\"T_3ecdc_row5_col7\" class=\"data row5 col7\" >0.4763</td>\n",
       "      <td id=\"T_3ecdc_row5_col8\" class=\"data row5 col8\" >0.0980</td>\n",
       "    </tr>\n",
       "    <tr>\n",
       "      <th id=\"T_3ecdc_level0_row6\" class=\"row_heading level0 row6\" >qda</th>\n",
       "      <td id=\"T_3ecdc_row6_col0\" class=\"data row6 col0\" >Quadratic Discriminant Analysis</td>\n",
       "      <td id=\"T_3ecdc_row6_col1\" class=\"data row6 col1\" >0.8246</td>\n",
       "      <td id=\"T_3ecdc_row6_col2\" class=\"data row6 col2\" >0.8055</td>\n",
       "      <td id=\"T_3ecdc_row6_col3\" class=\"data row6 col3\" >0.3878</td>\n",
       "      <td id=\"T_3ecdc_row6_col4\" class=\"data row6 col4\" >0.6118</td>\n",
       "      <td id=\"T_3ecdc_row6_col5\" class=\"data row6 col5\" >0.4743</td>\n",
       "      <td id=\"T_3ecdc_row6_col6\" class=\"data row6 col6\" >0.3752</td>\n",
       "      <td id=\"T_3ecdc_row6_col7\" class=\"data row6 col7\" >0.3895</td>\n",
       "      <td id=\"T_3ecdc_row6_col8\" class=\"data row6 col8\" >0.0060</td>\n",
       "    </tr>\n",
       "    <tr>\n",
       "      <th id=\"T_3ecdc_level0_row7\" class=\"row_heading level0 row7\" >dt</th>\n",
       "      <td id=\"T_3ecdc_row7_col0\" class=\"data row7 col0\" >Decision Tree Classifier</td>\n",
       "      <td id=\"T_3ecdc_row7_col1\" class=\"data row7 col1\" >0.7863</td>\n",
       "      <td id=\"T_3ecdc_row7_col2\" class=\"data row7 col2\" >0.6746</td>\n",
       "      <td id=\"T_3ecdc_row7_col3\" class=\"data row7 col3\" >0.4860</td>\n",
       "      <td id=\"T_3ecdc_row7_col4\" class=\"data row7 col4\" >0.4761</td>\n",
       "      <td id=\"T_3ecdc_row7_col5\" class=\"data row7 col5\" >0.4806</td>\n",
       "      <td id=\"T_3ecdc_row7_col6\" class=\"data row7 col6\" >0.3462</td>\n",
       "      <td id=\"T_3ecdc_row7_col7\" class=\"data row7 col7\" >0.3465</td>\n",
       "      <td id=\"T_3ecdc_row7_col8\" class=\"data row7 col8\" >0.0100</td>\n",
       "    </tr>\n",
       "    <tr>\n",
       "      <th id=\"T_3ecdc_level0_row8\" class=\"row_heading level0 row8\" >lda</th>\n",
       "      <td id=\"T_3ecdc_row8_col0\" class=\"data row8 col0\" >Linear Discriminant Analysis</td>\n",
       "      <td id=\"T_3ecdc_row8_col1\" class=\"data row8 col1\" >0.8106</td>\n",
       "      <td id=\"T_3ecdc_row8_col2\" class=\"data row8 col2\" >0.7726</td>\n",
       "      <td id=\"T_3ecdc_row8_col3\" class=\"data row8 col3\" >0.2504</td>\n",
       "      <td id=\"T_3ecdc_row8_col4\" class=\"data row8 col4\" >0.5837</td>\n",
       "      <td id=\"T_3ecdc_row8_col5\" class=\"data row8 col5\" >0.3490</td>\n",
       "      <td id=\"T_3ecdc_row8_col6\" class=\"data row8 col6\" >0.2587</td>\n",
       "      <td id=\"T_3ecdc_row8_col7\" class=\"data row8 col7\" >0.2911</td>\n",
       "      <td id=\"T_3ecdc_row8_col8\" class=\"data row8 col8\" >0.0090</td>\n",
       "    </tr>\n",
       "    <tr>\n",
       "      <th id=\"T_3ecdc_level0_row9\" class=\"row_heading level0 row9\" >ridge</th>\n",
       "      <td id=\"T_3ecdc_row9_col0\" class=\"data row9 col0\" >Ridge Classifier</td>\n",
       "      <td id=\"T_3ecdc_row9_col1\" class=\"data row9 col1\" >0.8079</td>\n",
       "      <td id=\"T_3ecdc_row9_col2\" class=\"data row9 col2\" >0.0000</td>\n",
       "      <td id=\"T_3ecdc_row9_col3\" class=\"data row9 col3\" >0.1346</td>\n",
       "      <td id=\"T_3ecdc_row9_col4\" class=\"data row9 col4\" >0.6354</td>\n",
       "      <td id=\"T_3ecdc_row9_col5\" class=\"data row9 col5\" >0.2215</td>\n",
       "      <td id=\"T_3ecdc_row9_col6\" class=\"data row9 col6\" >0.1620</td>\n",
       "      <td id=\"T_3ecdc_row9_col7\" class=\"data row9 col7\" >0.2269</td>\n",
       "      <td id=\"T_3ecdc_row9_col8\" class=\"data row9 col8\" >0.0080</td>\n",
       "    </tr>\n",
       "    <tr>\n",
       "      <th id=\"T_3ecdc_level0_row10\" class=\"row_heading level0 row10\" >nb</th>\n",
       "      <td id=\"T_3ecdc_row10_col0\" class=\"data row10 col0\" >Naive Bayes</td>\n",
       "      <td id=\"T_3ecdc_row10_col1\" class=\"data row10 col1\" >0.7873</td>\n",
       "      <td id=\"T_3ecdc_row10_col2\" class=\"data row10 col2\" >0.7486</td>\n",
       "      <td id=\"T_3ecdc_row10_col3\" class=\"data row10 col3\" >0.1003</td>\n",
       "      <td id=\"T_3ecdc_row10_col4\" class=\"data row10 col4\" >0.4154</td>\n",
       "      <td id=\"T_3ecdc_row10_col5\" class=\"data row10 col5\" >0.1606</td>\n",
       "      <td id=\"T_3ecdc_row10_col6\" class=\"data row10 col6\" >0.0880</td>\n",
       "      <td id=\"T_3ecdc_row10_col7\" class=\"data row10 col7\" >0.1183</td>\n",
       "      <td id=\"T_3ecdc_row10_col8\" class=\"data row10 col8\" >0.0070</td>\n",
       "    </tr>\n",
       "    <tr>\n",
       "      <th id=\"T_3ecdc_level0_row11\" class=\"row_heading level0 row11\" >lr</th>\n",
       "      <td id=\"T_3ecdc_row11_col0\" class=\"data row11 col0\" >Logistic Regression</td>\n",
       "      <td id=\"T_3ecdc_row11_col1\" class=\"data row11 col1\" >0.7911</td>\n",
       "      <td id=\"T_3ecdc_row11_col2\" class=\"data row11 col2\" >0.6813</td>\n",
       "      <td id=\"T_3ecdc_row11_col3\" class=\"data row11 col3\" >0.0743</td>\n",
       "      <td id=\"T_3ecdc_row11_col4\" class=\"data row11 col4\" >0.4283</td>\n",
       "      <td id=\"T_3ecdc_row11_col5\" class=\"data row11 col5\" >0.1261</td>\n",
       "      <td id=\"T_3ecdc_row11_col6\" class=\"data row11 col6\" >0.0704</td>\n",
       "      <td id=\"T_3ecdc_row11_col7\" class=\"data row11 col7\" >0.1063</td>\n",
       "      <td id=\"T_3ecdc_row11_col8\" class=\"data row11 col8\" >0.5230</td>\n",
       "    </tr>\n",
       "    <tr>\n",
       "      <th id=\"T_3ecdc_level0_row12\" class=\"row_heading level0 row12\" >knn</th>\n",
       "      <td id=\"T_3ecdc_row12_col0\" class=\"data row12 col0\" >K Neighbors Classifier</td>\n",
       "      <td id=\"T_3ecdc_row12_col1\" class=\"data row12 col1\" >0.7606</td>\n",
       "      <td id=\"T_3ecdc_row12_col2\" class=\"data row12 col2\" >0.5286</td>\n",
       "      <td id=\"T_3ecdc_row12_col3\" class=\"data row12 col3\" >0.0806</td>\n",
       "      <td id=\"T_3ecdc_row12_col4\" class=\"data row12 col4\" >0.2403</td>\n",
       "      <td id=\"T_3ecdc_row12_col5\" class=\"data row12 col5\" >0.1204</td>\n",
       "      <td id=\"T_3ecdc_row12_col6\" class=\"data row12 col6\" >0.0201</td>\n",
       "      <td id=\"T_3ecdc_row12_col7\" class=\"data row12 col7\" >0.0243</td>\n",
       "      <td id=\"T_3ecdc_row12_col8\" class=\"data row12 col8\" >0.1930</td>\n",
       "    </tr>\n",
       "    <tr>\n",
       "      <th id=\"T_3ecdc_level0_row13\" class=\"row_heading level0 row13\" >dummy</th>\n",
       "      <td id=\"T_3ecdc_row13_col0\" class=\"data row13 col0\" >Dummy Classifier</td>\n",
       "      <td id=\"T_3ecdc_row13_col1\" class=\"data row13 col1\" >0.7963</td>\n",
       "      <td id=\"T_3ecdc_row13_col2\" class=\"data row13 col2\" >0.5000</td>\n",
       "      <td id=\"T_3ecdc_row13_col3\" class=\"data row13 col3\" >0.0000</td>\n",
       "      <td id=\"T_3ecdc_row13_col4\" class=\"data row13 col4\" >0.0000</td>\n",
       "      <td id=\"T_3ecdc_row13_col5\" class=\"data row13 col5\" >0.0000</td>\n",
       "      <td id=\"T_3ecdc_row13_col6\" class=\"data row13 col6\" >0.0000</td>\n",
       "      <td id=\"T_3ecdc_row13_col7\" class=\"data row13 col7\" >0.0000</td>\n",
       "      <td id=\"T_3ecdc_row13_col8\" class=\"data row13 col8\" >0.0070</td>\n",
       "    </tr>\n",
       "    <tr>\n",
       "      <th id=\"T_3ecdc_level0_row14\" class=\"row_heading level0 row14\" >svm</th>\n",
       "      <td id=\"T_3ecdc_row14_col0\" class=\"data row14 col0\" >SVM - Linear Kernel</td>\n",
       "      <td id=\"T_3ecdc_row14_col1\" class=\"data row14 col1\" >0.7487</td>\n",
       "      <td id=\"T_3ecdc_row14_col2\" class=\"data row14 col2\" >0.0000</td>\n",
       "      <td id=\"T_3ecdc_row14_col3\" class=\"data row14 col3\" >0.0540</td>\n",
       "      <td id=\"T_3ecdc_row14_col4\" class=\"data row14 col4\" >0.0562</td>\n",
       "      <td id=\"T_3ecdc_row14_col5\" class=\"data row14 col5\" >0.0412</td>\n",
       "      <td id=\"T_3ecdc_row14_col6\" class=\"data row14 col6\" >-0.0152</td>\n",
       "      <td id=\"T_3ecdc_row14_col7\" class=\"data row14 col7\" >-0.0158</td>\n",
       "      <td id=\"T_3ecdc_row14_col8\" class=\"data row14 col8\" >0.0160</td>\n",
       "    </tr>\n",
       "  </tbody>\n",
       "</table>\n"
      ],
      "text/plain": [
       "<pandas.io.formats.style.Styler at 0x7f33232abb80>"
      ]
     },
     "metadata": {},
     "output_type": "display_data"
    },
    {
     "data": {
      "text/html": [],
      "text/plain": [
       "<IPython.core.display.HTML object>"
      ]
     },
     "metadata": {},
     "output_type": "display_data"
    },
    {
     "data": {
      "text/plain": [
       "[<catboost.core.CatBoostClassifier at 0x7f33100f6320>,\n",
       " GradientBoostingClassifier(ccp_alpha=0.0, criterion='friedman_mse', init=None,\n",
       "                            learning_rate=0.1, loss='log_loss', max_depth=3,\n",
       "                            max_features=None, max_leaf_nodes=None,\n",
       "                            min_impurity_decrease=0.0, min_samples_leaf=1,\n",
       "                            min_samples_split=2, min_weight_fraction_leaf=0.0,\n",
       "                            n_estimators=100, n_iter_no_change=None,\n",
       "                            random_state=123, subsample=1.0, tol=0.0001,\n",
       "                            validation_fraction=0.1, verbose=0,\n",
       "                            warm_start=False),\n",
       " RandomForestClassifier(bootstrap=True, ccp_alpha=0.0, class_weight=None,\n",
       "                        criterion='gini', max_depth=None, max_features='sqrt',\n",
       "                        max_leaf_nodes=None, max_samples=None,\n",
       "                        min_impurity_decrease=0.0, min_samples_leaf=1,\n",
       "                        min_samples_split=2, min_weight_fraction_leaf=0.0,\n",
       "                        n_estimators=100, n_jobs=-1, oob_score=False,\n",
       "                        random_state=123, verbose=0, warm_start=False),\n",
       " AdaBoostClassifier(algorithm='SAMME.R', base_estimator='deprecated',\n",
       "                    estimator=None, learning_rate=1.0, n_estimators=50,\n",
       "                    random_state=123),\n",
       " XGBClassifier(base_score=None, booster='gbtree', callbacks=None,\n",
       "               colsample_bylevel=None, colsample_bynode=None,\n",
       "               colsample_bytree=None, device=None, early_stopping_rounds=None,\n",
       "               enable_categorical=False, eval_metric=None, feature_types=None,\n",
       "               gamma=None, grow_policy=None, importance_type=None,\n",
       "               interaction_constraints=None, learning_rate=None, max_bin=None,\n",
       "               max_cat_threshold=None, max_cat_to_onehot=None,\n",
       "               max_delta_step=None, max_depth=None, max_leaves=None,\n",
       "               min_child_weight=None, missing=nan, monotone_constraints=None,\n",
       "               multi_strategy=None, n_estimators=None, n_jobs=-1,\n",
       "               num_parallel_tree=None, objective='binary:logistic', ...)]"
      ]
     },
     "execution_count": 107,
     "metadata": {},
     "output_type": "execute_result"
    }
   ],
   "source": [
    "best = compare_models(sort='MCC', n_select=5, exclude=['lightgbm'])\n",
    "best"
   ]
  },
  {
   "cell_type": "code",
   "execution_count": 108,
   "metadata": {},
   "outputs": [
    {
     "data": {
      "text/plain": [
       "<catboost.core.CatBoostClassifier at 0x7f33100f6320>"
      ]
     },
     "execution_count": 108,
     "metadata": {},
     "output_type": "execute_result"
    }
   ],
   "source": [
    "best_model = best[0]\n",
    "best_model"
   ]
  },
  {
   "cell_type": "code",
   "execution_count": 110,
   "metadata": {},
   "outputs": [],
   "source": [
    "pull().to_csv('./05-compare_models.csv', index=False)"
   ]
  },
  {
   "cell_type": "code",
   "execution_count": 111,
   "metadata": {},
   "outputs": [
    {
     "data": {
      "text/html": [],
      "text/plain": [
       "<IPython.core.display.HTML object>"
      ]
     },
     "metadata": {},
     "output_type": "display_data"
    },
    {
     "data": {
      "image/png": "[encoded data removed]",
      "text/plain": [
       "<Figure size 800x550 with 1 Axes>"
      ]
     },
     "metadata": {},
     "output_type": "display_data"
    }
   ],
   "source": [
    "plot_model(best_model, plot='confusion_matrix')"
   ]
  },
  {
   "cell_type": "code",
   "execution_count": 112,
   "metadata": {},
   "outputs": [
    {
     "data": {
      "text/html": [],
      "text/plain": [
       "<IPython.core.display.HTML object>"
      ]
     },
     "metadata": {},
     "output_type": "display_data"
    },
    {
     "data": {
      "image/png": "[encoded data removed]",
      "text/plain": [
       "<Figure size 800x550 with 1 Axes>"
      ]
     },
     "metadata": {},
     "output_type": "display_data"
    }
   ],
   "source": [
    "plot_model(best_model, plot='auc')"
   ]
  },
  {
   "cell_type": "code",
   "execution_count": 114,
   "metadata": {},
   "outputs": [
    {
     "data": {
      "text/html": [],
      "text/plain": [
       "<IPython.core.display.HTML object>"
      ]
     },
     "metadata": {},
     "output_type": "display_data"
    },
    {
     "data": {
      "image/png": "[encoded data removed]",
      "text/plain": [
       "<Figure size 800x500 with 1 Axes>"
      ]
     },
     "metadata": {},
     "output_type": "display_data"
    }
   ],
   "source": [
    "plot_model(best_model, plot='feature')"
   ]
  },
  {
   "cell_type": "code",
   "execution_count": 115,
   "metadata": {},
   "outputs": [
    {
     "data": {
      "application/vnd.jupyter.widget-view+json": {
       "model_id": "67c85b92cdc44331a2edf0a5fa39a566",
       "version_major": 2,
       "version_minor": 0
      },
      "text/plain": [
       "interactive(children=(ToggleButtons(description='Plot Type:', icons=('',), options=(('Pipeline Plot', 'pipelin…"
      ]
     },
     "metadata": {},
     "output_type": "display_data"
    }
   ],
   "source": [
    "evaluate_model(best_model)\n"
   ]
  },
  {
   "cell_type": "code",
   "execution_count": 116,
   "metadata": {},
   "outputs": [
    {
     "name": "stdout",
     "output_type": "stream",
     "text": [
      "Transformation Pipeline and Model Successfully Saved\n"
     ]
    },
    {
     "data": {
      "text/plain": [
       "(Pipeline(memory=Memory(location=None),\n",
       "          steps=[('numerical_imputer',\n",
       "                  TransformerWrapper(exclude=None,\n",
       "                                     include=['credit_score', 'age', 'tenure',\n",
       "                                              'balance', 'products_number',\n",
       "                                              'credit_card', 'active_member',\n",
       "                                              'estimated_salary',\n",
       "                                              'country_Germany', 'country_Spain',\n",
       "                                              'gender_Male', 'k'],\n",
       "                                     transformer=SimpleImputer(add_indicator=False,\n",
       "                                                               copy=True,\n",
       "                                                               fill_value=None,\n",
       "                                                               keep_empty_...\n",
       "                                                               strategy='mean',\n",
       "                                                               verbose='deprecated'))),\n",
       "                 ('categorical_imputer',\n",
       "                  TransformerWrapper(exclude=None, include=[],\n",
       "                                     transformer=SimpleImputer(add_indicator=False,\n",
       "                                                               copy=True,\n",
       "                                                               fill_value=None,\n",
       "                                                               keep_empty_features=False,\n",
       "                                                               missing_values=nan,\n",
       "                                                               strategy='most_frequent',\n",
       "                                                               verbose='deprecated'))),\n",
       "                 ('trained_model',\n",
       "                  <catboost.core.CatBoostClassifier object at 0x7f33100f6320>)],\n",
       "          verbose=False),\n",
       " '05-best.pkl')"
      ]
     },
     "execution_count": 116,
     "metadata": {},
     "output_type": "execute_result"
    }
   ],
   "source": [
    "save_model(best_model, '05-01-best-default')"
   ]
  },
  {
   "cell_type": "code",
   "execution_count": 118,
   "metadata": {},
   "outputs": [
    {
     "data": {
      "image/png": "[encoded data removed]",
      "text/plain": [
       "<Figure size 800x630 with 2 Axes>"
      ]
     },
     "metadata": {},
     "output_type": "display_data"
    }
   ],
   "source": [
    "interpret_model(best_model)"
   ]
  },
  {
   "cell_type": "markdown",
   "metadata": {},
   "source": [
    "# Optimization"
   ]
  },
  {
   "cell_type": "code",
   "execution_count": 119,
   "metadata": {},
   "outputs": [
    {
     "data": {
      "text/html": [],
      "text/plain": [
       "<IPython.core.display.HTML object>"
      ]
     },
     "metadata": {},
     "output_type": "display_data"
    },
    {
     "data": {
      "text/html": [
       "<style type=\"text/css\">\n",
       "#T_9ccd8_row10_col0, #T_9ccd8_row10_col1, #T_9ccd8_row10_col2, #T_9ccd8_row10_col3, #T_9ccd8_row10_col4, #T_9ccd8_row10_col5, #T_9ccd8_row10_col6 {\n",
       "  background: yellow;\n",
       "}\n",
       "</style>\n",
       "<table id=\"T_9ccd8\">\n",
       "  <thead>\n",
       "    <tr>\n",
       "      <th class=\"blank level0\" >&nbsp;</th>\n",
       "      <th id=\"T_9ccd8_level0_col0\" class=\"col_heading level0 col0\" >Accuracy</th>\n",
       "      <th id=\"T_9ccd8_level0_col1\" class=\"col_heading level0 col1\" >AUC</th>\n",
       "      <th id=\"T_9ccd8_level0_col2\" class=\"col_heading level0 col2\" >Recall</th>\n",
       "      <th id=\"T_9ccd8_level0_col3\" class=\"col_heading level0 col3\" >Prec.</th>\n",
       "      <th id=\"T_9ccd8_level0_col4\" class=\"col_heading level0 col4\" >F1</th>\n",
       "      <th id=\"T_9ccd8_level0_col5\" class=\"col_heading level0 col5\" >Kappa</th>\n",
       "      <th id=\"T_9ccd8_level0_col6\" class=\"col_heading level0 col6\" >MCC</th>\n",
       "    </tr>\n",
       "    <tr>\n",
       "      <th class=\"index_name level0\" >Fold</th>\n",
       "      <th class=\"blank col0\" >&nbsp;</th>\n",
       "      <th class=\"blank col1\" >&nbsp;</th>\n",
       "      <th class=\"blank col2\" >&nbsp;</th>\n",
       "      <th class=\"blank col3\" >&nbsp;</th>\n",
       "      <th class=\"blank col4\" >&nbsp;</th>\n",
       "      <th class=\"blank col5\" >&nbsp;</th>\n",
       "      <th class=\"blank col6\" >&nbsp;</th>\n",
       "    </tr>\n",
       "  </thead>\n",
       "  <tbody>\n",
       "    <tr>\n",
       "      <th id=\"T_9ccd8_level0_row0\" class=\"row_heading level0 row0\" >0</th>\n",
       "      <td id=\"T_9ccd8_row0_col0\" class=\"data row0 col0\" >0.8614</td>\n",
       "      <td id=\"T_9ccd8_row0_col1\" class=\"data row0 col1\" >0.8735</td>\n",
       "      <td id=\"T_9ccd8_row0_col2\" class=\"data row0 col2\" >0.4859</td>\n",
       "      <td id=\"T_9ccd8_row0_col3\" class=\"data row0 col3\" >0.7419</td>\n",
       "      <td id=\"T_9ccd8_row0_col4\" class=\"data row0 col4\" >0.5872</td>\n",
       "      <td id=\"T_9ccd8_row0_col5\" class=\"data row0 col5\" >0.5083</td>\n",
       "      <td id=\"T_9ccd8_row0_col6\" class=\"data row0 col6\" >0.5247</td>\n",
       "    </tr>\n",
       "    <tr>\n",
       "      <th id=\"T_9ccd8_level0_row1\" class=\"row_heading level0 row1\" >1</th>\n",
       "      <td id=\"T_9ccd8_row1_col0\" class=\"data row1 col0\" >0.8771</td>\n",
       "      <td id=\"T_9ccd8_row1_col1\" class=\"data row1 col1\" >0.8887</td>\n",
       "      <td id=\"T_9ccd8_row1_col2\" class=\"data row1 col2\" >0.5070</td>\n",
       "      <td id=\"T_9ccd8_row1_col3\" class=\"data row1 col3\" >0.8182</td>\n",
       "      <td id=\"T_9ccd8_row1_col4\" class=\"data row1 col4\" >0.6261</td>\n",
       "      <td id=\"T_9ccd8_row1_col5\" class=\"data row1 col5\" >0.5574</td>\n",
       "      <td id=\"T_9ccd8_row1_col6\" class=\"data row1 col6\" >0.5802</td>\n",
       "    </tr>\n",
       "    <tr>\n",
       "      <th id=\"T_9ccd8_level0_row2\" class=\"row_heading level0 row2\" >2</th>\n",
       "      <td id=\"T_9ccd8_row2_col0\" class=\"data row2 col0\" >0.8614</td>\n",
       "      <td id=\"T_9ccd8_row2_col1\" class=\"data row2 col1\" >0.8622</td>\n",
       "      <td id=\"T_9ccd8_row2_col2\" class=\"data row2 col2\" >0.5070</td>\n",
       "      <td id=\"T_9ccd8_row2_col3\" class=\"data row2 col3\" >0.7273</td>\n",
       "      <td id=\"T_9ccd8_row2_col4\" class=\"data row2 col4\" >0.5975</td>\n",
       "      <td id=\"T_9ccd8_row2_col5\" class=\"data row2 col5\" >0.5170</td>\n",
       "      <td id=\"T_9ccd8_row2_col6\" class=\"data row2 col6\" >0.5293</td>\n",
       "    </tr>\n",
       "    <tr>\n",
       "      <th id=\"T_9ccd8_level0_row3\" class=\"row_heading level0 row3\" >3</th>\n",
       "      <td id=\"T_9ccd8_row3_col0\" class=\"data row3 col0\" >0.8700</td>\n",
       "      <td id=\"T_9ccd8_row3_col1\" class=\"data row3 col1\" >0.8934</td>\n",
       "      <td id=\"T_9ccd8_row3_col2\" class=\"data row3 col2\" >0.5352</td>\n",
       "      <td id=\"T_9ccd8_row3_col3\" class=\"data row3 col3\" >0.7525</td>\n",
       "      <td id=\"T_9ccd8_row3_col4\" class=\"data row3 col4\" >0.6255</td>\n",
       "      <td id=\"T_9ccd8_row3_col5\" class=\"data row3 col5\" >0.5496</td>\n",
       "      <td id=\"T_9ccd8_row3_col6\" class=\"data row3 col6\" >0.5612</td>\n",
       "    </tr>\n",
       "    <tr>\n",
       "      <th id=\"T_9ccd8_level0_row4\" class=\"row_heading level0 row4\" >4</th>\n",
       "      <td id=\"T_9ccd8_row4_col0\" class=\"data row4 col0\" >0.8671</td>\n",
       "      <td id=\"T_9ccd8_row4_col1\" class=\"data row4 col1\" >0.8824</td>\n",
       "      <td id=\"T_9ccd8_row4_col2\" class=\"data row4 col2\" >0.5385</td>\n",
       "      <td id=\"T_9ccd8_row4_col3\" class=\"data row4 col3\" >0.7404</td>\n",
       "      <td id=\"T_9ccd8_row4_col4\" class=\"data row4 col4\" >0.6235</td>\n",
       "      <td id=\"T_9ccd8_row4_col5\" class=\"data row4 col5\" >0.5453</td>\n",
       "      <td id=\"T_9ccd8_row4_col6\" class=\"data row4 col6\" >0.5554</td>\n",
       "    </tr>\n",
       "    <tr>\n",
       "      <th id=\"T_9ccd8_level0_row5\" class=\"row_heading level0 row5\" >5</th>\n",
       "      <td id=\"T_9ccd8_row5_col0\" class=\"data row5 col0\" >0.8686</td>\n",
       "      <td id=\"T_9ccd8_row5_col1\" class=\"data row5 col1\" >0.8701</td>\n",
       "      <td id=\"T_9ccd8_row5_col2\" class=\"data row5 col2\" >0.4755</td>\n",
       "      <td id=\"T_9ccd8_row5_col3\" class=\"data row5 col3\" >0.8000</td>\n",
       "      <td id=\"T_9ccd8_row5_col4\" class=\"data row5 col4\" >0.5965</td>\n",
       "      <td id=\"T_9ccd8_row5_col5\" class=\"data row5 col5\" >0.5240</td>\n",
       "      <td id=\"T_9ccd8_row5_col6\" class=\"data row5 col6\" >0.5493</td>\n",
       "    </tr>\n",
       "    <tr>\n",
       "      <th id=\"T_9ccd8_level0_row6\" class=\"row_heading level0 row6\" >6</th>\n",
       "      <td id=\"T_9ccd8_row6_col0\" class=\"data row6 col0\" >0.8686</td>\n",
       "      <td id=\"T_9ccd8_row6_col1\" class=\"data row6 col1\" >0.8419</td>\n",
       "      <td id=\"T_9ccd8_row6_col2\" class=\"data row6 col2\" >0.4476</td>\n",
       "      <td id=\"T_9ccd8_row6_col3\" class=\"data row6 col3\" >0.8312</td>\n",
       "      <td id=\"T_9ccd8_row6_col4\" class=\"data row6 col4\" >0.5818</td>\n",
       "      <td id=\"T_9ccd8_row6_col5\" class=\"data row6 col5\" >0.5120</td>\n",
       "      <td id=\"T_9ccd8_row6_col6\" class=\"data row6 col6\" >0.5466</td>\n",
       "    </tr>\n",
       "    <tr>\n",
       "      <th id=\"T_9ccd8_level0_row7\" class=\"row_heading level0 row7\" >7</th>\n",
       "      <td id=\"T_9ccd8_row7_col0\" class=\"data row7 col0\" >0.8371</td>\n",
       "      <td id=\"T_9ccd8_row7_col1\" class=\"data row7 col1\" >0.8299</td>\n",
       "      <td id=\"T_9ccd8_row7_col2\" class=\"data row7 col2\" >0.4406</td>\n",
       "      <td id=\"T_9ccd8_row7_col3\" class=\"data row7 col3\" >0.6495</td>\n",
       "      <td id=\"T_9ccd8_row7_col4\" class=\"data row7 col4\" >0.5250</td>\n",
       "      <td id=\"T_9ccd8_row7_col5\" class=\"data row7 col5\" >0.4310</td>\n",
       "      <td id=\"T_9ccd8_row7_col6\" class=\"data row7 col6\" >0.4429</td>\n",
       "    </tr>\n",
       "    <tr>\n",
       "      <th id=\"T_9ccd8_level0_row8\" class=\"row_heading level0 row8\" >8</th>\n",
       "      <td id=\"T_9ccd8_row8_col0\" class=\"data row8 col0\" >0.8629</td>\n",
       "      <td id=\"T_9ccd8_row8_col1\" class=\"data row8 col1\" >0.8337</td>\n",
       "      <td id=\"T_9ccd8_row8_col2\" class=\"data row8 col2\" >0.4825</td>\n",
       "      <td id=\"T_9ccd8_row8_col3\" class=\"data row8 col3\" >0.7582</td>\n",
       "      <td id=\"T_9ccd8_row8_col4\" class=\"data row8 col4\" >0.5897</td>\n",
       "      <td id=\"T_9ccd8_row8_col5\" class=\"data row8 col5\" >0.5122</td>\n",
       "      <td id=\"T_9ccd8_row8_col6\" class=\"data row8 col6\" >0.5311</td>\n",
       "    </tr>\n",
       "    <tr>\n",
       "      <th id=\"T_9ccd8_level0_row9\" class=\"row_heading level0 row9\" >9</th>\n",
       "      <td id=\"T_9ccd8_row9_col0\" class=\"data row9 col0\" >0.8629</td>\n",
       "      <td id=\"T_9ccd8_row9_col1\" class=\"data row9 col1\" >0.8434</td>\n",
       "      <td id=\"T_9ccd8_row9_col2\" class=\"data row9 col2\" >0.4476</td>\n",
       "      <td id=\"T_9ccd8_row9_col3\" class=\"data row9 col3\" >0.7901</td>\n",
       "      <td id=\"T_9ccd8_row9_col4\" class=\"data row9 col4\" >0.5714</td>\n",
       "      <td id=\"T_9ccd8_row9_col5\" class=\"data row9 col5\" >0.4971</td>\n",
       "      <td id=\"T_9ccd8_row9_col6\" class=\"data row9 col6\" >0.5256</td>\n",
       "    </tr>\n",
       "    <tr>\n",
       "      <th id=\"T_9ccd8_level0_row10\" class=\"row_heading level0 row10\" >Mean</th>\n",
       "      <td id=\"T_9ccd8_row10_col0\" class=\"data row10 col0\" >0.8637</td>\n",
       "      <td id=\"T_9ccd8_row10_col1\" class=\"data row10 col1\" >0.8619</td>\n",
       "      <td id=\"T_9ccd8_row10_col2\" class=\"data row10 col2\" >0.4867</td>\n",
       "      <td id=\"T_9ccd8_row10_col3\" class=\"data row10 col3\" >0.7609</td>\n",
       "      <td id=\"T_9ccd8_row10_col4\" class=\"data row10 col4\" >0.5924</td>\n",
       "      <td id=\"T_9ccd8_row10_col5\" class=\"data row10 col5\" >0.5154</td>\n",
       "      <td id=\"T_9ccd8_row10_col6\" class=\"data row10 col6\" >0.5346</td>\n",
       "    </tr>\n",
       "    <tr>\n",
       "      <th id=\"T_9ccd8_level0_row11\" class=\"row_heading level0 row11\" >Std</th>\n",
       "      <td id=\"T_9ccd8_row11_col0\" class=\"data row11 col0\" >0.0100</td>\n",
       "      <td id=\"T_9ccd8_row11_col1\" class=\"data row11 col1\" >0.0221</td>\n",
       "      <td id=\"T_9ccd8_row11_col2\" class=\"data row11 col2\" >0.0335</td>\n",
       "      <td id=\"T_9ccd8_row11_col3\" class=\"data row11 col3\" >0.0500</td>\n",
       "      <td id=\"T_9ccd8_row11_col4\" class=\"data row11 col4\" >0.0289</td>\n",
       "      <td id=\"T_9ccd8_row11_col5\" class=\"data row11 col5\" >0.0338</td>\n",
       "      <td id=\"T_9ccd8_row11_col6\" class=\"data row11 col6\" >0.0350</td>\n",
       "    </tr>\n",
       "  </tbody>\n",
       "</table>\n"
      ],
      "text/plain": [
       "<pandas.io.formats.style.Styler at 0x7f3323292500>"
      ]
     },
     "metadata": {},
     "output_type": "display_data"
    },
    {
     "data": {
      "text/html": [],
      "text/plain": [
       "<IPython.core.display.HTML object>"
      ]
     },
     "metadata": {},
     "output_type": "display_data"
    },
    {
     "name": "stdout",
     "output_type": "stream",
     "text": [
      "Fitting 10 folds for each of 100 candidates, totalling 1000 fits\n"
     ]
    },
    {
     "data": {
      "text/plain": [
       "<catboost.core.CatBoostClassifier at 0x7f330db79270>"
      ]
     },
     "execution_count": 119,
     "metadata": {},
     "output_type": "execute_result"
    }
   ],
   "source": [
    "best_tuned, best_tuner = tune_model(best_model, optimize='MCC', n_iter=100, fold=10, choose_better=True, return_tuner=True, early_stopping=True)\n",
    "best_tuned"
   ]
  },
  {
   "cell_type": "code",
   "execution_count": 121,
   "metadata": {},
   "outputs": [
    {
     "name": "stdout",
     "output_type": "stream",
     "text": [
      "Transformation Pipeline and Model Successfully Saved\n"
     ]
    },
    {
     "data": {
      "text/plain": [
       "(Pipeline(memory=Memory(location=None),\n",
       "          steps=[('numerical_imputer',\n",
       "                  TransformerWrapper(exclude=None,\n",
       "                                     include=['credit_score', 'age', 'tenure',\n",
       "                                              'balance', 'products_number',\n",
       "                                              'credit_card', 'active_member',\n",
       "                                              'estimated_salary',\n",
       "                                              'country_Germany', 'country_Spain',\n",
       "                                              'gender_Male', 'k'],\n",
       "                                     transformer=SimpleImputer(add_indicator=False,\n",
       "                                                               copy=True,\n",
       "                                                               fill_value=None,\n",
       "                                                               keep_empty_...\n",
       "                                                               strategy='mean',\n",
       "                                                               verbose='deprecated'))),\n",
       "                 ('categorical_imputer',\n",
       "                  TransformerWrapper(exclude=None, include=[],\n",
       "                                     transformer=SimpleImputer(add_indicator=False,\n",
       "                                                               copy=True,\n",
       "                                                               fill_value=None,\n",
       "                                                               keep_empty_features=False,\n",
       "                                                               missing_values=nan,\n",
       "                                                               strategy='most_frequent',\n",
       "                                                               verbose='deprecated'))),\n",
       "                 ('trained_model',\n",
       "                  <catboost.core.CatBoostClassifier object at 0x7f330db79270>)],\n",
       "          verbose=False),\n",
       " '05-02-best-tuned.pkl')"
      ]
     },
     "execution_count": 121,
     "metadata": {},
     "output_type": "execute_result"
    }
   ],
   "source": [
    "save_model(best_tuned, '05-02-best-tuned')"
   ]
  },
  {
   "cell_type": "code",
   "execution_count": 120,
   "metadata": {},
   "outputs": [
    {
     "name": "stdout",
     "output_type": "stream",
     "text": [
      "optimization loop finished successfully. Best threshold: 0.421875 with MCC=0.5367\n"
     ]
    },
    {
     "data": {
      "application/vnd.plotly.v1+json": {
       "config": {
        "plotlyServerURL": "https://plot.ly"
       },
       "data": [
        {
         "hovertemplate": "variable=Accuracy<br>probability_threshold=%{x}<br>value=%{y}<extra></extra>",
         "legendgroup": "Accuracy",
         "line": {
          "color": "#636efa",
          "dash": "solid"
         },
         "marker": {
          "symbol": "circle"
         },
         "mode": "lines",
         "name": "Accuracy",
         "orientation": "v",
         "showlegend": true,
         "type": "scatter",
         "x": [
          0,
          0.03125,
          0.031250014901161194,
          0.078125,
          0.09375,
          0.109375,
          0.109375,
          0.1093750149011612,
          0.125,
          0.171875,
          0.1718750149011612,
          0.203125,
          0.21875,
          0.234375,
          0.25,
          0.28125,
          0.2812500149011612,
          0.328125,
          0.34375,
          0.359375,
          0.359375,
          0.3593750149011612,
          0.375,
          0.421875,
          0.4218750149011612,
          0.453125,
          0.46875,
          0.484375,
          0.5,
          0.578125,
          0.578125,
          0.5781250149011612,
          0.59375,
          0.609375,
          0.625,
          0.65625,
          0.6562500149011612,
          0.703125,
          0.703125,
          0.7031250149011612,
          0.71875,
          0.734375,
          0.75,
          0.828125,
          0.828125,
          0.8281250149011612,
          0.84375,
          0.859375,
          0.875,
          0.90625,
          0.9062500149011612,
          0.953125,
          0.953125,
          0.9531250149011612,
          0.96875,
          0.984375
         ],
         "xaxis": "x",
         "y": [
          0.2037,
          0.405,
          0.405,
          0.61,
          0.6531,
          0.6879,
          0.6879,
          0.6879,
          0.7136,
          0.7767,
          0.7767,
          0.8,
          0.8099,
          0.8167,
          0.8231,
          0.8344,
          0.8344,
          0.8473,
          0.8501,
          0.853,
          0.853,
          0.853,
          0.8549,
          0.8606,
          0.8606,
          0.8611,
          0.862,
          0.8624,
          0.8637,
          0.8623,
          0.8623,
          0.8623,
          0.8609,
          0.8619,
          0.8611,
          0.8581,
          0.8581,
          0.8546,
          0.8546,
          0.8546,
          0.8527,
          0.8519,
          0.8499,
          0.8379,
          0.8379,
          0.8379,
          0.8357,
          0.832,
          0.8294,
          0.8224,
          0.8224,
          0.8107,
          0.8107,
          0.8107,
          0.8061,
          0.8019
         ],
         "yaxis": "y"
        },
        {
         "hovertemplate": "variable=AUC<br>probability_threshold=%{x}<br>value=%{y}<extra></extra>",
         "legendgroup": "AUC",
         "line": {
          "color": "#EF553B",
          "dash": "solid"
         },
         "marker": {
          "symbol": "circle"
         },
         "mode": "lines",
         "name": "AUC",
         "orientation": "v",
         "showlegend": true,
         "type": "scatter",
         "x": [
          0,
          0.03125,
          0.031250014901161194,
          0.078125,
          0.09375,
          0.109375,
          0.109375,
          0.1093750149011612,
          0.125,
          0.171875,
          0.1718750149011612,
          0.203125,
          0.21875,
          0.234375,
          0.25,
          0.28125,
          0.2812500149011612,
          0.328125,
          0.34375,
          0.359375,
          0.359375,
          0.3593750149011612,
          0.375,
          0.421875,
          0.4218750149011612,
          0.453125,
          0.46875,
          0.484375,
          0.5,
          0.578125,
          0.578125,
          0.5781250149011612,
          0.59375,
          0.609375,
          0.625,
          0.65625,
          0.6562500149011612,
          0.703125,
          0.703125,
          0.7031250149011612,
          0.71875,
          0.734375,
          0.75,
          0.828125,
          0.828125,
          0.8281250149011612,
          0.84375,
          0.859375,
          0.875,
          0.90625,
          0.9062500149011612,
          0.953125,
          0.953125,
          0.9531250149011612,
          0.96875,
          0.984375
         ],
         "xaxis": "x",
         "y": [
          0.8619,
          0.8619,
          0.8619,
          0.8619,
          0.8619,
          0.8619,
          0.8619,
          0.8619,
          0.8619,
          0.8619,
          0.8619,
          0.8619,
          0.8619,
          0.8619,
          0.8619,
          0.8619,
          0.8619,
          0.8619,
          0.8619,
          0.8619,
          0.8619,
          0.8619,
          0.8619,
          0.8619,
          0.8619,
          0.8619,
          0.8619,
          0.8619,
          0.8619,
          0.8619,
          0.8619,
          0.8619,
          0.8619,
          0.8619,
          0.8619,
          0.8619,
          0.8619,
          0.8619,
          0.8619,
          0.8619,
          0.8619,
          0.8619,
          0.8619,
          0.8619,
          0.8619,
          0.8619,
          0.8619,
          0.8619,
          0.8619,
          0.8619,
          0.8619,
          0.8619,
          0.8619,
          0.8619,
          0.8619,
          0.8619
         ],
         "yaxis": "y"
        },
        {
         "hovertemplate": "variable=Recall<br>probability_threshold=%{x}<br>value=%{y}<extra></extra>",
         "legendgroup": "Recall",
         "line": {
          "color": "#00cc96",
          "dash": "solid"
         },
         "marker": {
          "symbol": "circle"
         },
         "mode": "lines",
         "name": "Recall",
         "orientation": "v",
         "showlegend": true,
         "type": "scatter",
         "x": [
          0,
          0.03125,
          0.031250014901161194,
          0.078125,
          0.09375,
          0.109375,
          0.109375,
          0.1093750149011612,
          0.125,
          0.171875,
          0.1718750149011612,
          0.203125,
          0.21875,
          0.234375,
          0.25,
          0.28125,
          0.2812500149011612,
          0.328125,
          0.34375,
          0.359375,
          0.359375,
          0.3593750149011612,
          0.375,
          0.421875,
          0.4218750149011612,
          0.453125,
          0.46875,
          0.484375,
          0.5,
          0.578125,
          0.578125,
          0.5781250149011612,
          0.59375,
          0.609375,
          0.625,
          0.65625,
          0.6562500149011612,
          0.703125,
          0.703125,
          0.7031250149011612,
          0.71875,
          0.734375,
          0.75,
          0.828125,
          0.828125,
          0.8281250149011612,
          0.84375,
          0.859375,
          0.875,
          0.90625,
          0.9062500149011612,
          0.953125,
          0.953125,
          0.9531250149011612,
          0.96875,
          0.984375
         ],
         "xaxis": "x",
         "y": [
          1,
          0.9776,
          0.9776,
          0.9075,
          0.8893,
          0.8661,
          0.8661,
          0.8661,
          0.8479,
          0.7869,
          0.7869,
          0.7483,
          0.7301,
          0.7091,
          0.6908,
          0.6607,
          0.6607,
          0.6137,
          0.6004,
          0.5885,
          0.5885,
          0.5885,
          0.5758,
          0.54,
          0.54,
          0.5141,
          0.5036,
          0.4952,
          0.4867,
          0.4271,
          0.4271,
          0.4271,
          0.4124,
          0.4033,
          0.3927,
          0.3668,
          0.3668,
          0.3331,
          0.3331,
          0.3331,
          0.3198,
          0.3114,
          0.2987,
          0.2209,
          0.2209,
          0.2209,
          0.2069,
          0.1859,
          0.1711,
          0.134,
          0.134,
          0.0744,
          0.0744,
          0.0744,
          0.0498,
          0.0273
         ],
         "yaxis": "y"
        },
        {
         "hovertemplate": "variable=Prec.<br>probability_threshold=%{x}<br>value=%{y}<extra></extra>",
         "legendgroup": "Prec.",
         "line": {
          "color": "#ab63fa",
          "dash": "solid"
         },
         "marker": {
          "symbol": "circle"
         },
         "mode": "lines",
         "name": "Prec.",
         "orientation": "v",
         "showlegend": true,
         "type": "scatter",
         "x": [
          0,
          0.03125,
          0.031250014901161194,
          0.078125,
          0.09375,
          0.109375,
          0.109375,
          0.1093750149011612,
          0.125,
          0.171875,
          0.1718750149011612,
          0.203125,
          0.21875,
          0.234375,
          0.25,
          0.28125,
          0.2812500149011612,
          0.328125,
          0.34375,
          0.359375,
          0.359375,
          0.3593750149011612,
          0.375,
          0.421875,
          0.4218750149011612,
          0.453125,
          0.46875,
          0.484375,
          0.5,
          0.578125,
          0.578125,
          0.5781250149011612,
          0.59375,
          0.609375,
          0.625,
          0.65625,
          0.6562500149011612,
          0.703125,
          0.703125,
          0.7031250149011612,
          0.71875,
          0.734375,
          0.75,
          0.828125,
          0.828125,
          0.8281250149011612,
          0.84375,
          0.859375,
          0.875,
          0.90625,
          0.9062500149011612,
          0.953125,
          0.953125,
          0.9531250149011612,
          0.96875,
          0.984375
         ],
         "xaxis": "x",
         "y": [
          0.2037,
          0.2523,
          0.2523,
          0.3327,
          0.3586,
          0.3827,
          0.3827,
          0.3827,
          0.4036,
          0.4719,
          0.4719,
          0.5069,
          0.5248,
          0.5388,
          0.5534,
          0.5833,
          0.5833,
          0.6292,
          0.6421,
          0.6558,
          0.6558,
          0.6558,
          0.6676,
          0.7083,
          0.7083,
          0.7262,
          0.7378,
          0.7463,
          0.7609,
          0.8093,
          0.8093,
          0.8093,
          0.8145,
          0.8344,
          0.843,
          0.8549,
          0.8549,
          0.8771,
          0.8771,
          0.8771,
          0.883,
          0.8911,
          0.8945,
          0.9292,
          0.9292,
          0.9292,
          0.94,
          0.9483,
          0.9538,
          0.9616,
          0.9616,
          0.9565,
          0.9565,
          0.9565,
          0.9722,
          1
         ],
         "yaxis": "y"
        },
        {
         "hovertemplate": "variable=F1<br>probability_threshold=%{x}<br>value=%{y}<extra></extra>",
         "legendgroup": "F1",
         "line": {
          "color": "#FFA15A",
          "dash": "solid"
         },
         "marker": {
          "symbol": "circle"
         },
         "mode": "lines",
         "name": "F1",
         "orientation": "v",
         "showlegend": true,
         "type": "scatter",
         "x": [
          0,
          0.03125,
          0.031250014901161194,
          0.078125,
          0.09375,
          0.109375,
          0.109375,
          0.1093750149011612,
          0.125,
          0.171875,
          0.1718750149011612,
          0.203125,
          0.21875,
          0.234375,
          0.25,
          0.28125,
          0.2812500149011612,
          0.328125,
          0.34375,
          0.359375,
          0.359375,
          0.3593750149011612,
          0.375,
          0.421875,
          0.4218750149011612,
          0.453125,
          0.46875,
          0.484375,
          0.5,
          0.578125,
          0.578125,
          0.5781250149011612,
          0.59375,
          0.609375,
          0.625,
          0.65625,
          0.6562500149011612,
          0.703125,
          0.703125,
          0.7031250149011612,
          0.71875,
          0.734375,
          0.75,
          0.828125,
          0.828125,
          0.8281250149011612,
          0.84375,
          0.859375,
          0.875,
          0.90625,
          0.9062500149011612,
          0.953125,
          0.953125,
          0.9531250149011612,
          0.96875,
          0.984375
         ],
         "xaxis": "x",
         "y": [
          0.3385,
          0.401,
          0.401,
          0.4868,
          0.511,
          0.5307,
          0.5307,
          0.5307,
          0.5467,
          0.5897,
          0.5897,
          0.6042,
          0.6103,
          0.612,
          0.6142,
          0.6192,
          0.6192,
          0.6207,
          0.6199,
          0.6197,
          0.6197,
          0.6197,
          0.6177,
          0.6121,
          0.6121,
          0.6011,
          0.5977,
          0.5944,
          0.5924,
          0.558,
          0.558,
          0.558,
          0.5465,
          0.5427,
          0.535,
          0.5127,
          0.5127,
          0.4823,
          0.4823,
          0.4823,
          0.469,
          0.4608,
          0.4472,
          0.3565,
          0.3565,
          0.3565,
          0.3385,
          0.3099,
          0.2893,
          0.2342,
          0.2342,
          0.1374,
          0.1374,
          0.1374,
          0.0945,
          0.053
         ],
         "yaxis": "y"
        },
        {
         "hovertemplate": "variable=Kappa<br>probability_threshold=%{x}<br>value=%{y}<extra></extra>",
         "legendgroup": "Kappa",
         "line": {
          "color": "#19d3f3",
          "dash": "solid"
         },
         "marker": {
          "symbol": "circle"
         },
         "mode": "lines",
         "name": "Kappa",
         "orientation": "v",
         "showlegend": true,
         "type": "scatter",
         "x": [
          0,
          0.03125,
          0.031250014901161194,
          0.078125,
          0.09375,
          0.109375,
          0.109375,
          0.1093750149011612,
          0.125,
          0.171875,
          0.1718750149011612,
          0.203125,
          0.21875,
          0.234375,
          0.25,
          0.28125,
          0.2812500149011612,
          0.328125,
          0.34375,
          0.359375,
          0.359375,
          0.3593750149011612,
          0.375,
          0.421875,
          0.4218750149011612,
          0.453125,
          0.46875,
          0.484375,
          0.5,
          0.578125,
          0.578125,
          0.5781250149011612,
          0.59375,
          0.609375,
          0.625,
          0.65625,
          0.6562500149011612,
          0.703125,
          0.703125,
          0.7031250149011612,
          0.71875,
          0.734375,
          0.75,
          0.828125,
          0.828125,
          0.8281250149011612,
          0.84375,
          0.859375,
          0.875,
          0.90625,
          0.9062500149011612,
          0.953125,
          0.953125,
          0.9531250149011612,
          0.96875,
          0.984375
         ],
         "xaxis": "x",
         "y": [
          0,
          0.1141,
          0.1141,
          0.2687,
          0.311,
          0.3459,
          0.3459,
          0.3459,
          0.3739,
          0.4494,
          0.4494,
          0.4771,
          0.4891,
          0.4951,
          0.5014,
          0.514,
          0.514,
          0.5252,
          0.5268,
          0.529,
          0.529,
          0.529,
          0.5288,
          0.5291,
          0.5291,
          0.5201,
          0.5181,
          0.5157,
          0.5154,
          0.4855,
          0.4855,
          0.4855,
          0.4747,
          0.4728,
          0.4659,
          0.4448,
          0.4448,
          0.4171,
          0.4171,
          0.4171,
          0.4046,
          0.3974,
          0.3846,
          0.3021,
          0.3021,
          0.3021,
          0.2863,
          0.2608,
          0.2428,
          0.1945,
          0.1945,
          0.1116,
          0.1116,
          0.1116,
          0.0763,
          0.0427
         ],
         "yaxis": "y"
        },
        {
         "hovertemplate": "variable=MCC<br>probability_threshold=%{x}<br>value=%{y}<extra></extra>",
         "legendgroup": "MCC",
         "line": {
          "color": "#FF6692",
          "dash": "solid"
         },
         "marker": {
          "symbol": "circle"
         },
         "mode": "lines",
         "name": "MCC",
         "orientation": "v",
         "showlegend": true,
         "type": "scatter",
         "x": [
          0,
          0.03125,
          0.031250014901161194,
          0.078125,
          0.09375,
          0.109375,
          0.109375,
          0.1093750149011612,
          0.125,
          0.171875,
          0.1718750149011612,
          0.203125,
          0.21875,
          0.234375,
          0.25,
          0.28125,
          0.2812500149011612,
          0.328125,
          0.34375,
          0.359375,
          0.359375,
          0.3593750149011612,
          0.375,
          0.421875,
          0.4218750149011612,
          0.453125,
          0.46875,
          0.484375,
          0.5,
          0.578125,
          0.578125,
          0.5781250149011612,
          0.59375,
          0.609375,
          0.625,
          0.65625,
          0.6562500149011612,
          0.703125,
          0.703125,
          0.7031250149011612,
          0.71875,
          0.734375,
          0.75,
          0.828125,
          0.828125,
          0.8281250149011612,
          0.84375,
          0.859375,
          0.875,
          0.90625,
          0.9062500149011612,
          0.953125,
          0.953125,
          0.9531250149011612,
          0.96875,
          0.984375
         ],
         "xaxis": "x",
         "y": [
          0,
          0.2337,
          0.2337,
          0.358,
          0.3884,
          0.4109,
          0.4109,
          0.4109,
          0.4292,
          0.4773,
          0.4773,
          0.4934,
          0.501,
          0.5032,
          0.5068,
          0.5159,
          0.5159,
          0.5257,
          0.5277,
          0.5306,
          0.5306,
          0.5306,
          0.5314,
          0.5367,
          0.5367,
          0.532,
          0.5323,
          0.532,
          0.5346,
          0.521,
          0.521,
          0.521,
          0.5136,
          0.5168,
          0.5134,
          0.4999,
          0.4999,
          0.4838,
          0.4838,
          0.4838,
          0.4756,
          0.472,
          0.4629,
          0.406,
          0.406,
          0.406,
          0.3955,
          0.3759,
          0.3617,
          0.3201,
          0.3201,
          0.2353,
          0.2353,
          0.2353,
          0.1944,
          0.1455
         ],
         "yaxis": "y"
        }
       ],
       "layout": {
        "legend": {
         "title": {
          "text": "variable"
         },
         "tracegroupgap": 0
        },
        "template": {
         "data": {
          "bar": [
           {
            "error_x": {
             "color": "#2a3f5f"
            },
            "error_y": {
             "color": "#2a3f5f"
            },
            "marker": {
             "line": {
              "color": "#E5ECF6",
              "width": 0.5
             },
             "pattern": {
              "fillmode": "overlay",
              "size": 10,
              "solidity": 0.2
             }
            },
            "type": "bar"
           }
          ],
          "barpolar": [
           {
            "marker": {
             "line": {
              "color": "#E5ECF6",
              "width": 0.5
             },
             "pattern": {
              "fillmode": "overlay",
              "size": 10,
              "solidity": 0.2
             }
            },
            "type": "barpolar"
           }
          ],
          "carpet": [
           {
            "aaxis": {
             "endlinecolor": "#2a3f5f",
             "gridcolor": "white",
             "linecolor": "white",
             "minorgridcolor": "white",
             "startlinecolor": "#2a3f5f"
            },
            "baxis": {
             "endlinecolor": "#2a3f5f",
             "gridcolor": "white",
             "linecolor": "white",
             "minorgridcolor": "white",
             "startlinecolor": "#2a3f5f"
            },
            "type": "carpet"
           }
          ],
          "choropleth": [
           {
            "colorbar": {
             "outlinewidth": 0,
             "ticks": ""
            },
            "type": "choropleth"
           }
          ],
          "contour": [
           {
            "colorbar": {
             "outlinewidth": 0,
             "ticks": ""
            },
            "colorscale": [
             [
              0,
              "#0d0887"
             ],
             [
              0.1111111111111111,
              "#46039f"
             ],
             [
              0.2222222222222222,
              "#7201a8"
             ],
             [
              0.3333333333333333,
              "#9c179e"
             ],
             [
              0.4444444444444444,
              "#bd3786"
             ],
             [
              0.5555555555555556,
              "#d8576b"
             ],
             [
              0.6666666666666666,
              "#ed7953"
             ],
             [
              0.7777777777777778,
              "#fb9f3a"
             ],
             [
              0.8888888888888888,
              "#fdca26"
             ],
             [
              1,
              "#f0f921"
             ]
            ],
            "type": "contour"
           }
          ],
          "contourcarpet": [
           {
            "colorbar": {
             "outlinewidth": 0,
             "ticks": ""
            },
            "type": "contourcarpet"
           }
          ],
          "heatmap": [
           {
            "colorbar": {
             "outlinewidth": 0,
             "ticks": ""
            },
            "colorscale": [
             [
              0,
              "#0d0887"
             ],
             [
              0.1111111111111111,
              "#46039f"
             ],
             [
              0.2222222222222222,
              "#7201a8"
             ],
             [
              0.3333333333333333,
              "#9c179e"
             ],
             [
              0.4444444444444444,
              "#bd3786"
             ],
             [
              0.5555555555555556,
              "#d8576b"
             ],
             [
              0.6666666666666666,
              "#ed7953"
             ],
             [
              0.7777777777777778,
              "#fb9f3a"
             ],
             [
              0.8888888888888888,
              "#fdca26"
             ],
             [
              1,
              "#f0f921"
             ]
            ],
            "type": "heatmap"
           }
          ],
          "heatmapgl": [
           {
            "colorbar": {
             "outlinewidth": 0,
             "ticks": ""
            },
            "colorscale": [
             [
              0,
              "#0d0887"
             ],
             [
              0.1111111111111111,
              "#46039f"
             ],
             [
              0.2222222222222222,
              "#7201a8"
             ],
             [
              0.3333333333333333,
              "#9c179e"
             ],
             [
              0.4444444444444444,
              "#bd3786"
             ],
             [
              0.5555555555555556,
              "#d8576b"
             ],
             [
              0.6666666666666666,
              "#ed7953"
             ],
             [
              0.7777777777777778,
              "#fb9f3a"
             ],
             [
              0.8888888888888888,
              "#fdca26"
             ],
             [
              1,
              "#f0f921"
             ]
            ],
            "type": "heatmapgl"
           }
          ],
          "histogram": [
           {
            "marker": {
             "pattern": {
              "fillmode": "overlay",
              "size": 10,
              "solidity": 0.2
             }
            },
            "type": "histogram"
           }
          ],
          "histogram2d": [
           {
            "colorbar": {
             "outlinewidth": 0,
             "ticks": ""
            },
            "colorscale": [
             [
              0,
              "#0d0887"
             ],
             [
              0.1111111111111111,
              "#46039f"
             ],
             [
              0.2222222222222222,
              "#7201a8"
             ],
             [
              0.3333333333333333,
              "#9c179e"
             ],
             [
              0.4444444444444444,
              "#bd3786"
             ],
             [
              0.5555555555555556,
              "#d8576b"
             ],
             [
              0.6666666666666666,
              "#ed7953"
             ],
             [
              0.7777777777777778,
              "#fb9f3a"
             ],
             [
              0.8888888888888888,
              "#fdca26"
             ],
             [
              1,
              "#f0f921"
             ]
            ],
            "type": "histogram2d"
           }
          ],
          "histogram2dcontour": [
           {
            "colorbar": {
             "outlinewidth": 0,
             "ticks": ""
            },
            "colorscale": [
             [
              0,
              "#0d0887"
             ],
             [
              0.1111111111111111,
              "#46039f"
             ],
             [
              0.2222222222222222,
              "#7201a8"
             ],
             [
              0.3333333333333333,
              "#9c179e"
             ],
             [
              0.4444444444444444,
              "#bd3786"
             ],
             [
              0.5555555555555556,
              "#d8576b"
             ],
             [
              0.6666666666666666,
              "#ed7953"
             ],
             [
              0.7777777777777778,
              "#fb9f3a"
             ],
             [
              0.8888888888888888,
              "#fdca26"
             ],
             [
              1,
              "#f0f921"
             ]
            ],
            "type": "histogram2dcontour"
           }
          ],
          "mesh3d": [
           {
            "colorbar": {
             "outlinewidth": 0,
             "ticks": ""
            },
            "type": "mesh3d"
           }
          ],
          "parcoords": [
           {
            "line": {
             "colorbar": {
              "outlinewidth": 0,
              "ticks": ""
             }
            },
            "type": "parcoords"
           }
          ],
          "pie": [
           {
            "automargin": true,
            "type": "pie"
           }
          ],
          "scatter": [
           {
            "fillpattern": {
             "fillmode": "overlay",
             "size": 10,
             "solidity": 0.2
            },
            "type": "scatter"
           }
          ],
          "scatter3d": [
           {
            "line": {
             "colorbar": {
              "outlinewidth": 0,
              "ticks": ""
             }
            },
            "marker": {
             "colorbar": {
              "outlinewidth": 0,
              "ticks": ""
             }
            },
            "type": "scatter3d"
           }
          ],
          "scattercarpet": [
           {
            "marker": {
             "colorbar": {
              "outlinewidth": 0,
              "ticks": ""
             }
            },
            "type": "scattercarpet"
           }
          ],
          "scattergeo": [
           {
            "marker": {
             "colorbar": {
              "outlinewidth": 0,
              "ticks": ""
             }
            },
            "type": "scattergeo"
           }
          ],
          "scattergl": [
           {
            "marker": {
             "colorbar": {
              "outlinewidth": 0,
              "ticks": ""
             }
            },
            "type": "scattergl"
           }
          ],
          "scattermapbox": [
           {
            "marker": {
             "colorbar": {
              "outlinewidth": 0,
              "ticks": ""
             }
            },
            "type": "scattermapbox"
           }
          ],
          "scatterpolar": [
           {
            "marker": {
             "colorbar": {
              "outlinewidth": 0,
              "ticks": ""
             }
            },
            "type": "scatterpolar"
           }
          ],
          "scatterpolargl": [
           {
            "marker": {
             "colorbar": {
              "outlinewidth": 0,
              "ticks": ""
             }
            },
            "type": "scatterpolargl"
           }
          ],
          "scatterternary": [
           {
            "marker": {
             "colorbar": {
              "outlinewidth": 0,
              "ticks": ""
             }
            },
            "type": "scatterternary"
           }
          ],
          "surface": [
           {
            "colorbar": {
             "outlinewidth": 0,
             "ticks": ""
            },
            "colorscale": [
             [
              0,
              "#0d0887"
             ],
             [
              0.1111111111111111,
              "#46039f"
             ],
             [
              0.2222222222222222,
              "#7201a8"
             ],
             [
              0.3333333333333333,
              "#9c179e"
             ],
             [
              0.4444444444444444,
              "#bd3786"
             ],
             [
              0.5555555555555556,
              "#d8576b"
             ],
             [
              0.6666666666666666,
              "#ed7953"
             ],
             [
              0.7777777777777778,
              "#fb9f3a"
             ],
             [
              0.8888888888888888,
              "#fdca26"
             ],
             [
              1,
              "#f0f921"
             ]
            ],
            "type": "surface"
           }
          ],
          "table": [
           {
            "cells": {
             "fill": {
              "color": "#EBF0F8"
             },
             "line": {
              "color": "white"
             }
            },
            "header": {
             "fill": {
              "color": "#C8D4E3"
             },
             "line": {
              "color": "white"
             }
            },
            "type": "table"
           }
          ]
         },
         "layout": {
          "annotationdefaults": {
           "arrowcolor": "#2a3f5f",
           "arrowhead": 0,
           "arrowwidth": 1
          },
          "autotypenumbers": "strict",
          "coloraxis": {
           "colorbar": {
            "outlinewidth": 0,
            "ticks": ""
           }
          },
          "colorscale": {
           "diverging": [
            [
             0,
             "#8e0152"
            ],
            [
             0.1,
             "#c51b7d"
            ],
            [
             0.2,
             "#de77ae"
            ],
            [
             0.3,
             "#f1b6da"
            ],
            [
             0.4,
             "#fde0ef"
            ],
            [
             0.5,
             "#f7f7f7"
            ],
            [
             0.6,
             "#e6f5d0"
            ],
            [
             0.7,
             "#b8e186"
            ],
            [
             0.8,
             "#7fbc41"
            ],
            [
             0.9,
             "#4d9221"
            ],
            [
             1,
             "#276419"
            ]
           ],
           "sequential": [
            [
             0,
             "#0d0887"
            ],
            [
             0.1111111111111111,
             "#46039f"
            ],
            [
             0.2222222222222222,
             "#7201a8"
            ],
            [
             0.3333333333333333,
             "#9c179e"
            ],
            [
             0.4444444444444444,
             "#bd3786"
            ],
            [
             0.5555555555555556,
             "#d8576b"
            ],
            [
             0.6666666666666666,
             "#ed7953"
            ],
            [
             0.7777777777777778,
             "#fb9f3a"
            ],
            [
             0.8888888888888888,
             "#fdca26"
            ],
            [
             1,
             "#f0f921"
            ]
           ],
           "sequentialminus": [
            [
             0,
             "#0d0887"
            ],
            [
             0.1111111111111111,
             "#46039f"
            ],
            [
             0.2222222222222222,
             "#7201a8"
            ],
            [
             0.3333333333333333,
             "#9c179e"
            ],
            [
             0.4444444444444444,
             "#bd3786"
            ],
            [
             0.5555555555555556,
             "#d8576b"
            ],
            [
             0.6666666666666666,
             "#ed7953"
            ],
            [
             0.7777777777777778,
             "#fb9f3a"
            ],
            [
             0.8888888888888888,
             "#fdca26"
            ],
            [
             1,
             "#f0f921"
            ]
           ]
          },
          "colorway": [
           "#636efa",
           "#EF553B",
           "#00cc96",
           "#ab63fa",
           "#FFA15A",
           "#19d3f3",
           "#FF6692",
           "#B6E880",
           "#FF97FF",
           "#FECB52"
          ],
          "font": {
           "color": "#2a3f5f"
          },
          "geo": {
           "bgcolor": "white",
           "lakecolor": "white",
           "landcolor": "#E5ECF6",
           "showlakes": true,
           "showland": true,
           "subunitcolor": "white"
          },
          "hoverlabel": {
           "align": "left"
          },
          "hovermode": "closest",
          "mapbox": {
           "style": "light"
          },
          "paper_bgcolor": "white",
          "plot_bgcolor": "#E5ECF6",
          "polar": {
           "angularaxis": {
            "gridcolor": "white",
            "linecolor": "white",
            "ticks": ""
           },
           "bgcolor": "#E5ECF6",
           "radialaxis": {
            "gridcolor": "white",
            "linecolor": "white",
            "ticks": ""
           }
          },
          "scene": {
           "xaxis": {
            "backgroundcolor": "#E5ECF6",
            "gridcolor": "white",
            "gridwidth": 2,
            "linecolor": "white",
            "showbackground": true,
            "ticks": "",
            "zerolinecolor": "white"
           },
           "yaxis": {
            "backgroundcolor": "#E5ECF6",
            "gridcolor": "white",
            "gridwidth": 2,
            "linecolor": "white",
            "showbackground": true,
            "ticks": "",
            "zerolinecolor": "white"
           },
           "zaxis": {
            "backgroundcolor": "#E5ECF6",
            "gridcolor": "white",
            "gridwidth": 2,
            "linecolor": "white",
            "showbackground": true,
            "ticks": "",
            "zerolinecolor": "white"
           }
          },
          "shapedefaults": {
           "line": {
            "color": "#2a3f5f"
           }
          },
          "ternary": {
           "aaxis": {
            "gridcolor": "white",
            "linecolor": "white",
            "ticks": ""
           },
           "baxis": {
            "gridcolor": "white",
            "linecolor": "white",
            "ticks": ""
           },
           "bgcolor": "#E5ECF6",
           "caxis": {
            "gridcolor": "white",
            "linecolor": "white",
            "ticks": ""
           }
          },
          "title": {
           "x": 0.05
          },
          "xaxis": {
           "automargin": true,
           "gridcolor": "white",
           "linecolor": "white",
           "ticks": "",
           "title": {
            "standoff": 15
           },
           "zerolinecolor": "white",
           "zerolinewidth": 2
          },
          "yaxis": {
           "automargin": true,
           "gridcolor": "white",
           "linecolor": "white",
           "ticks": "",
           "title": {
            "standoff": 15
           },
           "zerolinecolor": "white",
           "zerolinewidth": 2
          }
         }
        },
        "title": {
         "text": "CatBoost Classifier Probability Threshold Optimization (default = 0.5)"
        },
        "xaxis": {
         "anchor": "y",
         "domain": [
          0,
          1
         ],
         "title": {
          "text": "probability_threshold"
         }
        },
        "yaxis": {
         "anchor": "x",
         "domain": [
          0,
          1
         ],
         "title": {
          "text": "value"
         }
        }
       }
      }
     },
     "metadata": {},
     "output_type": "display_data"
    }
   ],
   "source": [
    "best_optimized = optimize_threshold(best_tuned, optimize='MCC')"
   ]
  },
  {
   "cell_type": "code",
   "execution_count": 122,
   "metadata": {},
   "outputs": [
    {
     "name": "stdout",
     "output_type": "stream",
     "text": [
      "Transformation Pipeline and Model Successfully Saved\n"
     ]
    },
    {
     "data": {
      "text/plain": [
       "(Pipeline(memory=Memory(location=None),\n",
       "          steps=[('numerical_imputer',\n",
       "                  TransformerWrapper(exclude=None,\n",
       "                                     include=['credit_score', 'age', 'tenure',\n",
       "                                              'balance', 'products_number',\n",
       "                                              'credit_card', 'active_member',\n",
       "                                              'estimated_salary',\n",
       "                                              'country_Germany', 'country_Spain',\n",
       "                                              'gender_Male', 'k'],\n",
       "                                     transformer=SimpleImputer(add_indicator=False,\n",
       "                                                               copy=True,\n",
       "                                                               fill_value=None,\n",
       "                                                               keep_empty_...\n",
       "                                                               strategy='most_frequent',\n",
       "                                                               verbose='deprecated'))),\n",
       "                 ('trained_model',\n",
       "                  CustomProbabilityThresholdClassifier(border_count=254,\n",
       "                                                       classifier=<catboost.core.CatBoostClassifier object at 0x7f32f7807b20>,\n",
       "                                                       depth=6, eta=0.05,\n",
       "                                                       l2_leaf_reg=5,\n",
       "                                                       n_estimators=300,\n",
       "                                                       probability_threshold=0.421875,\n",
       "                                                       random_state=123,\n",
       "                                                       random_strength=0.7,\n",
       "                                                       task_type='CPU',\n",
       "                                                       verbose=False))],\n",
       "          verbose=False),\n",
       " '05-03-best-optimized.pkl')"
      ]
     },
     "execution_count": 122,
     "metadata": {},
     "output_type": "execute_result"
    }
   ],
   "source": [
    "save_model(best_optimized, '05-03-best-optimized')"
   ]
  },
  {
   "cell_type": "code",
   "execution_count": 123,
   "metadata": {},
   "outputs": [
    {
     "data": {
      "text/html": [
       "<div>\n",
       "<style scoped>\n",
       "    .dataframe tbody tr th:only-of-type {\n",
       "        vertical-align: middle;\n",
       "    }\n",
       "\n",
       "    .dataframe tbody tr th {\n",
       "        vertical-align: top;\n",
       "    }\n",
       "\n",
       "    .dataframe thead th {\n",
       "        text-align: right;\n",
       "    }\n",
       "</style>\n",
       "<table border=\"1\" class=\"dataframe\">\n",
       "  <thead>\n",
       "    <tr style=\"text-align: right;\">\n",
       "      <th></th>\n",
       "      <th>Model</th>\n",
       "      <th>Accuracy</th>\n",
       "      <th>AUC</th>\n",
       "      <th>Recall</th>\n",
       "      <th>Prec.</th>\n",
       "      <th>F1</th>\n",
       "      <th>Kappa</th>\n",
       "      <th>MCC</th>\n",
       "      <th>threshold</th>\n",
       "    </tr>\n",
       "  </thead>\n",
       "  <tbody>\n",
       "    <tr>\n",
       "      <th>0</th>\n",
       "      <td>CatBoost Classifier</td>\n",
       "      <td>0.2350</td>\n",
       "      <td>0.8787</td>\n",
       "      <td>1.0000</td>\n",
       "      <td>0.2103</td>\n",
       "      <td>0.3475</td>\n",
       "      <td>0.0164</td>\n",
       "      <td>0.0910</td>\n",
       "      <td>0.01</td>\n",
       "    </tr>\n",
       "    <tr>\n",
       "      <th>1</th>\n",
       "      <td>CatBoost Classifier</td>\n",
       "      <td>0.3377</td>\n",
       "      <td>0.8787</td>\n",
       "      <td>0.9951</td>\n",
       "      <td>0.2346</td>\n",
       "      <td>0.3796</td>\n",
       "      <td>0.0746</td>\n",
       "      <td>0.1934</td>\n",
       "      <td>0.02</td>\n",
       "    </tr>\n",
       "    <tr>\n",
       "      <th>2</th>\n",
       "      <td>CatBoost Classifier</td>\n",
       "      <td>0.4047</td>\n",
       "      <td>0.8787</td>\n",
       "      <td>0.9836</td>\n",
       "      <td>0.2528</td>\n",
       "      <td>0.4023</td>\n",
       "      <td>0.1157</td>\n",
       "      <td>0.2385</td>\n",
       "      <td>0.03</td>\n",
       "    </tr>\n",
       "    <tr>\n",
       "      <th>3</th>\n",
       "      <td>CatBoost Classifier</td>\n",
       "      <td>0.4590</td>\n",
       "      <td>0.8787</td>\n",
       "      <td>0.9705</td>\n",
       "      <td>0.2698</td>\n",
       "      <td>0.4222</td>\n",
       "      <td>0.1519</td>\n",
       "      <td>0.2718</td>\n",
       "      <td>0.04</td>\n",
       "    </tr>\n",
       "    <tr>\n",
       "      <th>4</th>\n",
       "      <td>CatBoost Classifier</td>\n",
       "      <td>0.5040</td>\n",
       "      <td>0.8787</td>\n",
       "      <td>0.9624</td>\n",
       "      <td>0.2864</td>\n",
       "      <td>0.4414</td>\n",
       "      <td>0.1859</td>\n",
       "      <td>0.3025</td>\n",
       "      <td>0.05</td>\n",
       "    </tr>\n",
       "    <tr>\n",
       "      <th>...</th>\n",
       "      <td>...</td>\n",
       "      <td>...</td>\n",
       "      <td>...</td>\n",
       "      <td>...</td>\n",
       "      <td>...</td>\n",
       "      <td>...</td>\n",
       "      <td>...</td>\n",
       "      <td>...</td>\n",
       "      <td>...</td>\n",
       "    </tr>\n",
       "    <tr>\n",
       "      <th>94</th>\n",
       "      <td>CatBoost Classifier</td>\n",
       "      <td>0.8173</td>\n",
       "      <td>0.8787</td>\n",
       "      <td>0.1031</td>\n",
       "      <td>1.0000</td>\n",
       "      <td>0.1869</td>\n",
       "      <td>0.1548</td>\n",
       "      <td>0.2896</td>\n",
       "      <td>0.95</td>\n",
       "    </tr>\n",
       "    <tr>\n",
       "      <th>95</th>\n",
       "      <td>CatBoost Classifier</td>\n",
       "      <td>0.8140</td>\n",
       "      <td>0.8787</td>\n",
       "      <td>0.0867</td>\n",
       "      <td>1.0000</td>\n",
       "      <td>0.1596</td>\n",
       "      <td>0.1314</td>\n",
       "      <td>0.2652</td>\n",
       "      <td>0.96</td>\n",
       "    </tr>\n",
       "    <tr>\n",
       "      <th>96</th>\n",
       "      <td>CatBoost Classifier</td>\n",
       "      <td>0.8093</td>\n",
       "      <td>0.8787</td>\n",
       "      <td>0.0638</td>\n",
       "      <td>1.0000</td>\n",
       "      <td>0.1200</td>\n",
       "      <td>0.0980</td>\n",
       "      <td>0.2269</td>\n",
       "      <td>0.97</td>\n",
       "    </tr>\n",
       "    <tr>\n",
       "      <th>97</th>\n",
       "      <td>CatBoost Classifier</td>\n",
       "      <td>0.8063</td>\n",
       "      <td>0.8787</td>\n",
       "      <td>0.0491</td>\n",
       "      <td>1.0000</td>\n",
       "      <td>0.0936</td>\n",
       "      <td>0.0760</td>\n",
       "      <td>0.1987</td>\n",
       "      <td>0.98</td>\n",
       "    </tr>\n",
       "    <tr>\n",
       "      <th>98</th>\n",
       "      <td>CatBoost Classifier</td>\n",
       "      <td>0.8020</td>\n",
       "      <td>0.8787</td>\n",
       "      <td>0.0278</td>\n",
       "      <td>1.0000</td>\n",
       "      <td>0.0541</td>\n",
       "      <td>0.0436</td>\n",
       "      <td>0.1493</td>\n",
       "      <td>0.99</td>\n",
       "    </tr>\n",
       "  </tbody>\n",
       "</table>\n",
       "<p>99 rows × 9 columns</p>\n",
       "</div>"
      ],
      "text/plain": [
       "                  Model  Accuracy     AUC  Recall   Prec.      F1   Kappa  \\\n",
       "0   CatBoost Classifier    0.2350  0.8787  1.0000  0.2103  0.3475  0.0164   \n",
       "1   CatBoost Classifier    0.3377  0.8787  0.9951  0.2346  0.3796  0.0746   \n",
       "2   CatBoost Classifier    0.4047  0.8787  0.9836  0.2528  0.4023  0.1157   \n",
       "3   CatBoost Classifier    0.4590  0.8787  0.9705  0.2698  0.4222  0.1519   \n",
       "4   CatBoost Classifier    0.5040  0.8787  0.9624  0.2864  0.4414  0.1859   \n",
       "..                  ...       ...     ...     ...     ...     ...     ...   \n",
       "94  CatBoost Classifier    0.8173  0.8787  0.1031  1.0000  0.1869  0.1548   \n",
       "95  CatBoost Classifier    0.8140  0.8787  0.0867  1.0000  0.1596  0.1314   \n",
       "96  CatBoost Classifier    0.8093  0.8787  0.0638  1.0000  0.1200  0.0980   \n",
       "97  CatBoost Classifier    0.8063  0.8787  0.0491  1.0000  0.0936  0.0760   \n",
       "98  CatBoost Classifier    0.8020  0.8787  0.0278  1.0000  0.0541  0.0436   \n",
       "\n",
       "       MCC  threshold  \n",
       "0   0.0910       0.01  \n",
       "1   0.1934       0.02  \n",
       "2   0.2385       0.03  \n",
       "3   0.2718       0.04  \n",
       "4   0.3025       0.05  \n",
       "..     ...        ...  \n",
       "94  0.2896       0.95  \n",
       "95  0.2652       0.96  \n",
       "96  0.2269       0.97  \n",
       "97  0.1987       0.98  \n",
       "98  0.1493       0.99  \n",
       "\n",
       "[99 rows x 9 columns]"
      ]
     },
     "execution_count": 123,
     "metadata": {},
     "output_type": "execute_result"
    }
   ],
   "source": [
    "results = pd.DataFrame()\n",
    "\n",
    "for i in range(1, 100):  # El rango va de 0 a 10 (11 no se incluye)\n",
    "    threshold = i/100\n",
    "    predict_model(best_optimized, raw_score=True, probability_threshold=threshold, verbose=False)\n",
    "    aux = pull()\n",
    "    aux['threshold'] = threshold\n",
    "    results = pd.concat([results, aux], ignore_index=True)\n",
    "\n",
    "results"
   ]
  },
  {
   "cell_type": "code",
   "execution_count": 124,
   "metadata": {},
   "outputs": [
    {
     "data": {
      "text/html": [
       "<div>\n",
       "<style scoped>\n",
       "    .dataframe tbody tr th:only-of-type {\n",
       "        vertical-align: middle;\n",
       "    }\n",
       "\n",
       "    .dataframe tbody tr th {\n",
       "        vertical-align: top;\n",
       "    }\n",
       "\n",
       "    .dataframe thead th {\n",
       "        text-align: right;\n",
       "    }\n",
       "</style>\n",
       "<table border=\"1\" class=\"dataframe\">\n",
       "  <thead>\n",
       "    <tr style=\"text-align: right;\">\n",
       "      <th></th>\n",
       "      <th>Model</th>\n",
       "      <th>Accuracy</th>\n",
       "      <th>AUC</th>\n",
       "      <th>Recall</th>\n",
       "      <th>Prec.</th>\n",
       "      <th>F1</th>\n",
       "      <th>Kappa</th>\n",
       "      <th>MCC</th>\n",
       "      <th>threshold</th>\n",
       "    </tr>\n",
       "  </thead>\n",
       "  <tbody>\n",
       "    <tr>\n",
       "      <th>40</th>\n",
       "      <td>CatBoost Classifier</td>\n",
       "      <td>0.8687</td>\n",
       "      <td>0.8787</td>\n",
       "      <td>0.5794</td>\n",
       "      <td>0.721</td>\n",
       "      <td>0.6425</td>\n",
       "      <td>0.5632</td>\n",
       "      <td>0.5682</td>\n",
       "      <td>0.41</td>\n",
       "    </tr>\n",
       "  </tbody>\n",
       "</table>\n",
       "</div>"
      ],
      "text/plain": [
       "                  Model  Accuracy     AUC  Recall  Prec.      F1   Kappa  \\\n",
       "40  CatBoost Classifier    0.8687  0.8787  0.5794  0.721  0.6425  0.5632   \n",
       "\n",
       "       MCC  threshold  \n",
       "40  0.5682       0.41  "
      ]
     },
     "metadata": {},
     "output_type": "display_data"
    },
    {
     "data": {
      "image/png": "[encoded data removed]",
      "text/plain": [
       "<Figure size 800x550 with 1 Axes>"
      ]
     },
     "metadata": {},
     "output_type": "display_data"
    }
   ],
   "source": [
    "import matplotlib.pyplot as plt\n",
    "\n",
    "best_results = results.loc[results['MCC'] == results['MCC'].max()]\n",
    "display(best_results)\n",
    "\n",
    "plt.plot(results['threshold'], results['MCC'])\n",
    "plt.xlabel('threshold')\n",
    "plt.ylabel('MCC')\n",
    "plt.title('Plot')\n",
    "plt.show()"
   ]
  },
  {
   "cell_type": "code",
   "execution_count": 125,
   "metadata": {},
   "outputs": [
    {
     "data": {
      "text/html": [
       "<style type=\"text/css\">\n",
       "</style>\n",
       "<table id=\"T_55dc3\">\n",
       "  <thead>\n",
       "    <tr>\n",
       "      <th class=\"blank level0\" >&nbsp;</th>\n",
       "      <th id=\"T_55dc3_level0_col0\" class=\"col_heading level0 col0\" >Model</th>\n",
       "      <th id=\"T_55dc3_level0_col1\" class=\"col_heading level0 col1\" >Accuracy</th>\n",
       "      <th id=\"T_55dc3_level0_col2\" class=\"col_heading level0 col2\" >AUC</th>\n",
       "      <th id=\"T_55dc3_level0_col3\" class=\"col_heading level0 col3\" >Recall</th>\n",
       "      <th id=\"T_55dc3_level0_col4\" class=\"col_heading level0 col4\" >Prec.</th>\n",
       "      <th id=\"T_55dc3_level0_col5\" class=\"col_heading level0 col5\" >F1</th>\n",
       "      <th id=\"T_55dc3_level0_col6\" class=\"col_heading level0 col6\" >Kappa</th>\n",
       "      <th id=\"T_55dc3_level0_col7\" class=\"col_heading level0 col7\" >MCC</th>\n",
       "    </tr>\n",
       "  </thead>\n",
       "  <tbody>\n",
       "    <tr>\n",
       "      <th id=\"T_55dc3_level0_row0\" class=\"row_heading level0 row0\" >0</th>\n",
       "      <td id=\"T_55dc3_row0_col0\" class=\"data row0 col0\" >CatBoost Classifier</td>\n",
       "      <td id=\"T_55dc3_row0_col1\" class=\"data row0 col1\" >0.8683</td>\n",
       "      <td id=\"T_55dc3_row0_col2\" class=\"data row0 col2\" >0.8787</td>\n",
       "      <td id=\"T_55dc3_row0_col3\" class=\"data row0 col3\" >0.5696</td>\n",
       "      <td id=\"T_55dc3_row0_col4\" class=\"data row0 col4\" >0.7250</td>\n",
       "      <td id=\"T_55dc3_row0_col5\" class=\"data row0 col5\" >0.6379</td>\n",
       "      <td id=\"T_55dc3_row0_col6\" class=\"data row0 col6\" >0.5589</td>\n",
       "      <td id=\"T_55dc3_row0_col7\" class=\"data row0 col7\" >0.5650</td>\n",
       "    </tr>\n",
       "  </tbody>\n",
       "</table>\n"
      ],
      "text/plain": [
       "<pandas.io.formats.style.Styler at 0x7f330db25fc0>"
      ]
     },
     "metadata": {},
     "output_type": "display_data"
    },
    {
     "data": {
      "text/html": [
       "<div>\n",
       "<style scoped>\n",
       "    .dataframe tbody tr th:only-of-type {\n",
       "        vertical-align: middle;\n",
       "    }\n",
       "\n",
       "    .dataframe tbody tr th {\n",
       "        vertical-align: top;\n",
       "    }\n",
       "\n",
       "    .dataframe thead th {\n",
       "        text-align: right;\n",
       "    }\n",
       "</style>\n",
       "<table border=\"1\" class=\"dataframe\">\n",
       "  <thead>\n",
       "    <tr style=\"text-align: right;\">\n",
       "      <th></th>\n",
       "      <th>credit_score</th>\n",
       "      <th>age</th>\n",
       "      <th>tenure</th>\n",
       "      <th>balance</th>\n",
       "      <th>products_number</th>\n",
       "      <th>credit_card</th>\n",
       "      <th>active_member</th>\n",
       "      <th>estimated_salary</th>\n",
       "      <th>country_Germany</th>\n",
       "      <th>country_Spain</th>\n",
       "      <th>gender_Male</th>\n",
       "      <th>k</th>\n",
       "      <th>churn</th>\n",
       "      <th>prediction_label</th>\n",
       "      <th>prediction_score_0</th>\n",
       "      <th>prediction_score_1</th>\n",
       "    </tr>\n",
       "  </thead>\n",
       "  <tbody>\n",
       "    <tr>\n",
       "      <th>3564</th>\n",
       "      <td>847</td>\n",
       "      <td>51</td>\n",
       "      <td>5</td>\n",
       "      <td>97565.742188</td>\n",
       "      <td>1</td>\n",
       "      <td>0</td>\n",
       "      <td>0</td>\n",
       "      <td>144184.062500</td>\n",
       "      <td>0</td>\n",
       "      <td>0</td>\n",
       "      <td>1</td>\n",
       "      <td>0</td>\n",
       "      <td>1</td>\n",
       "      <td>1</td>\n",
       "      <td>0.4045</td>\n",
       "      <td>0.5955</td>\n",
       "    </tr>\n",
       "    <tr>\n",
       "      <th>1986</th>\n",
       "      <td>845</td>\n",
       "      <td>41</td>\n",
       "      <td>2</td>\n",
       "      <td>81733.742188</td>\n",
       "      <td>2</td>\n",
       "      <td>0</td>\n",
       "      <td>0</td>\n",
       "      <td>199761.296875</td>\n",
       "      <td>1</td>\n",
       "      <td>0</td>\n",
       "      <td>0</td>\n",
       "      <td>0</td>\n",
       "      <td>0</td>\n",
       "      <td>0</td>\n",
       "      <td>0.9385</td>\n",
       "      <td>0.0615</td>\n",
       "    </tr>\n",
       "    <tr>\n",
       "      <th>3684</th>\n",
       "      <td>482</td>\n",
       "      <td>35</td>\n",
       "      <td>2</td>\n",
       "      <td>133111.734375</td>\n",
       "      <td>1</td>\n",
       "      <td>0</td>\n",
       "      <td>1</td>\n",
       "      <td>79957.953125</td>\n",
       "      <td>0</td>\n",
       "      <td>0</td>\n",
       "      <td>0</td>\n",
       "      <td>2</td>\n",
       "      <td>0</td>\n",
       "      <td>0</td>\n",
       "      <td>0.9350</td>\n",
       "      <td>0.0650</td>\n",
       "    </tr>\n",
       "    <tr>\n",
       "      <th>3334</th>\n",
       "      <td>671</td>\n",
       "      <td>27</td>\n",
       "      <td>5</td>\n",
       "      <td>0.000000</td>\n",
       "      <td>2</td>\n",
       "      <td>0</td>\n",
       "      <td>0</td>\n",
       "      <td>120893.070312</td>\n",
       "      <td>0</td>\n",
       "      <td>0</td>\n",
       "      <td>1</td>\n",
       "      <td>3</td>\n",
       "      <td>0</td>\n",
       "      <td>0</td>\n",
       "      <td>0.9874</td>\n",
       "      <td>0.0126</td>\n",
       "    </tr>\n",
       "    <tr>\n",
       "      <th>8346</th>\n",
       "      <td>695</td>\n",
       "      <td>32</td>\n",
       "      <td>9</td>\n",
       "      <td>0.000000</td>\n",
       "      <td>3</td>\n",
       "      <td>0</td>\n",
       "      <td>1</td>\n",
       "      <td>38533.789062</td>\n",
       "      <td>0</td>\n",
       "      <td>1</td>\n",
       "      <td>1</td>\n",
       "      <td>1</td>\n",
       "      <td>0</td>\n",
       "      <td>0</td>\n",
       "      <td>0.8525</td>\n",
       "      <td>0.1475</td>\n",
       "    </tr>\n",
       "    <tr>\n",
       "      <th>...</th>\n",
       "      <td>...</td>\n",
       "      <td>...</td>\n",
       "      <td>...</td>\n",
       "      <td>...</td>\n",
       "      <td>...</td>\n",
       "      <td>...</td>\n",
       "      <td>...</td>\n",
       "      <td>...</td>\n",
       "      <td>...</td>\n",
       "      <td>...</td>\n",
       "      <td>...</td>\n",
       "      <td>...</td>\n",
       "      <td>...</td>\n",
       "      <td>...</td>\n",
       "      <td>...</td>\n",
       "      <td>...</td>\n",
       "    </tr>\n",
       "    <tr>\n",
       "      <th>9164</th>\n",
       "      <td>680</td>\n",
       "      <td>36</td>\n",
       "      <td>7</td>\n",
       "      <td>0.000000</td>\n",
       "      <td>2</td>\n",
       "      <td>1</td>\n",
       "      <td>0</td>\n",
       "      <td>20109.210938</td>\n",
       "      <td>0</td>\n",
       "      <td>1</td>\n",
       "      <td>1</td>\n",
       "      <td>1</td>\n",
       "      <td>0</td>\n",
       "      <td>0</td>\n",
       "      <td>0.9817</td>\n",
       "      <td>0.0183</td>\n",
       "    </tr>\n",
       "    <tr>\n",
       "      <th>364</th>\n",
       "      <td>640</td>\n",
       "      <td>68</td>\n",
       "      <td>9</td>\n",
       "      <td>0.000000</td>\n",
       "      <td>2</td>\n",
       "      <td>1</td>\n",
       "      <td>1</td>\n",
       "      <td>199493.375000</td>\n",
       "      <td>0</td>\n",
       "      <td>0</td>\n",
       "      <td>1</td>\n",
       "      <td>3</td>\n",
       "      <td>0</td>\n",
       "      <td>0</td>\n",
       "      <td>0.9798</td>\n",
       "      <td>0.0202</td>\n",
       "    </tr>\n",
       "    <tr>\n",
       "      <th>3872</th>\n",
       "      <td>605</td>\n",
       "      <td>39</td>\n",
       "      <td>6</td>\n",
       "      <td>111169.906250</td>\n",
       "      <td>1</td>\n",
       "      <td>0</td>\n",
       "      <td>0</td>\n",
       "      <td>9641.400391</td>\n",
       "      <td>0</td>\n",
       "      <td>0</td>\n",
       "      <td>1</td>\n",
       "      <td>2</td>\n",
       "      <td>0</td>\n",
       "      <td>0</td>\n",
       "      <td>0.8532</td>\n",
       "      <td>0.1468</td>\n",
       "    </tr>\n",
       "    <tr>\n",
       "      <th>3311</th>\n",
       "      <td>513</td>\n",
       "      <td>72</td>\n",
       "      <td>3</td>\n",
       "      <td>98903.062500</td>\n",
       "      <td>1</td>\n",
       "      <td>1</td>\n",
       "      <td>1</td>\n",
       "      <td>81251.242188</td>\n",
       "      <td>0</td>\n",
       "      <td>1</td>\n",
       "      <td>1</td>\n",
       "      <td>2</td>\n",
       "      <td>0</td>\n",
       "      <td>0</td>\n",
       "      <td>0.9735</td>\n",
       "      <td>0.0265</td>\n",
       "    </tr>\n",
       "    <tr>\n",
       "      <th>5713</th>\n",
       "      <td>537</td>\n",
       "      <td>47</td>\n",
       "      <td>10</td>\n",
       "      <td>0.000000</td>\n",
       "      <td>2</td>\n",
       "      <td>0</td>\n",
       "      <td>1</td>\n",
       "      <td>25482.619141</td>\n",
       "      <td>0</td>\n",
       "      <td>0</td>\n",
       "      <td>1</td>\n",
       "      <td>1</td>\n",
       "      <td>0</td>\n",
       "      <td>0</td>\n",
       "      <td>0.9487</td>\n",
       "      <td>0.0513</td>\n",
       "    </tr>\n",
       "  </tbody>\n",
       "</table>\n",
       "<p>3000 rows × 16 columns</p>\n",
       "</div>"
      ],
      "text/plain": [
       "      credit_score  age  tenure        balance  products_number  credit_card  \\\n",
       "3564           847   51       5   97565.742188                1            0   \n",
       "1986           845   41       2   81733.742188                2            0   \n",
       "3684           482   35       2  133111.734375                1            0   \n",
       "3334           671   27       5       0.000000                2            0   \n",
       "8346           695   32       9       0.000000                3            0   \n",
       "...            ...  ...     ...            ...              ...          ...   \n",
       "9164           680   36       7       0.000000                2            1   \n",
       "364            640   68       9       0.000000                2            1   \n",
       "3872           605   39       6  111169.906250                1            0   \n",
       "3311           513   72       3   98903.062500                1            1   \n",
       "5713           537   47      10       0.000000                2            0   \n",
       "\n",
       "      active_member  estimated_salary  country_Germany  country_Spain  \\\n",
       "3564              0     144184.062500                0              0   \n",
       "1986              0     199761.296875                1              0   \n",
       "3684              1      79957.953125                0              0   \n",
       "3334              0     120893.070312                0              0   \n",
       "8346              1      38533.789062                0              1   \n",
       "...             ...               ...              ...            ...   \n",
       "9164              0      20109.210938                0              1   \n",
       "364               1     199493.375000                0              0   \n",
       "3872              0       9641.400391                0              0   \n",
       "3311              1      81251.242188                0              1   \n",
       "5713              1      25482.619141                0              0   \n",
       "\n",
       "      gender_Male  k  churn  prediction_label  prediction_score_0  \\\n",
       "3564            1  0      1                 1              0.4045   \n",
       "1986            0  0      0                 0              0.9385   \n",
       "3684            0  2      0                 0              0.9350   \n",
       "3334            1  3      0                 0              0.9874   \n",
       "8346            1  1      0                 0              0.8525   \n",
       "...           ... ..    ...               ...                 ...   \n",
       "9164            1  1      0                 0              0.9817   \n",
       "364             1  3      0                 0              0.9798   \n",
       "3872            1  2      0                 0              0.8532   \n",
       "3311            1  2      0                 0              0.9735   \n",
       "5713            1  1      0                 0              0.9487   \n",
       "\n",
       "      prediction_score_1  \n",
       "3564              0.5955  \n",
       "1986              0.0615  \n",
       "3684              0.0650  \n",
       "3334              0.0126  \n",
       "8346              0.1475  \n",
       "...                  ...  \n",
       "9164              0.0183  \n",
       "364               0.0202  \n",
       "3872              0.1468  \n",
       "3311              0.0265  \n",
       "5713              0.0513  \n",
       "\n",
       "[3000 rows x 16 columns]"
      ]
     },
     "execution_count": 125,
     "metadata": {},
     "output_type": "execute_result"
    }
   ],
   "source": [
    "predictions = predict_model(best_optimized, raw_score=True, probability_threshold=0.421875)\n",
    "predictions"
   ]
  },
  {
   "cell_type": "code",
   "execution_count": 126,
   "metadata": {},
   "outputs": [
    {
     "data": {
      "text/html": [
       "<style>#sk-container-id-10 {color: black;background-color: white;}#sk-container-id-10 pre{padding: 0;}#sk-container-id-10 div.sk-toggleable {background-color: white;}#sk-container-id-10 label.sk-toggleable__label {cursor: pointer;display: block;width: 100%;margin-bottom: 0;padding: 0.3em;box-sizing: border-box;text-align: center;}#sk-container-id-10 label.sk-toggleable__label-arrow:before {content: \"▸\";float: left;margin-right: 0.25em;color: #696969;}#sk-container-id-10 label.sk-toggleable__label-arrow:hover:before {color: black;}#sk-container-id-10 div.sk-estimator:hover label.sk-toggleable__label-arrow:before {color: black;}#sk-container-id-10 div.sk-toggleable__content {max-height: 0;max-width: 0;overflow: hidden;text-align: left;background-color: #f0f8ff;}#sk-container-id-10 div.sk-toggleable__content pre {margin: 0.2em;color: black;border-radius: 0.25em;background-color: #f0f8ff;}#sk-container-id-10 input.sk-toggleable__control:checked~div.sk-toggleable__content {max-height: 200px;max-width: 100%;overflow: auto;}#sk-container-id-10 input.sk-toggleable__control:checked~label.sk-toggleable__label-arrow:before {content: \"▾\";}#sk-container-id-10 div.sk-estimator input.sk-toggleable__control:checked~label.sk-toggleable__label {background-color: #d4ebff;}#sk-container-id-10 div.sk-label input.sk-toggleable__control:checked~label.sk-toggleable__label {background-color: #d4ebff;}#sk-container-id-10 input.sk-hidden--visually {border: 0;clip: rect(1px 1px 1px 1px);clip: rect(1px, 1px, 1px, 1px);height: 1px;margin: -1px;overflow: hidden;padding: 0;position: absolute;width: 1px;}#sk-container-id-10 div.sk-estimator {font-family: monospace;background-color: #f0f8ff;border: 1px dotted black;border-radius: 0.25em;box-sizing: border-box;margin-bottom: 0.5em;}#sk-container-id-10 div.sk-estimator:hover {background-color: #d4ebff;}#sk-container-id-10 div.sk-parallel-item::after {content: \"\";width: 100%;border-bottom: 1px solid gray;flex-grow: 1;}#sk-container-id-10 div.sk-label:hover label.sk-toggleable__label {background-color: #d4ebff;}#sk-container-id-10 div.sk-serial::before {content: \"\";position: absolute;border-left: 1px solid gray;box-sizing: border-box;top: 0;bottom: 0;left: 50%;z-index: 0;}#sk-container-id-10 div.sk-serial {display: flex;flex-direction: column;align-items: center;background-color: white;padding-right: 0.2em;padding-left: 0.2em;position: relative;}#sk-container-id-10 div.sk-item {position: relative;z-index: 1;}#sk-container-id-10 div.sk-parallel {display: flex;align-items: stretch;justify-content: center;background-color: white;position: relative;}#sk-container-id-10 div.sk-item::before, #sk-container-id-10 div.sk-parallel-item::before {content: \"\";position: absolute;border-left: 1px solid gray;box-sizing: border-box;top: 0;bottom: 0;left: 50%;z-index: -1;}#sk-container-id-10 div.sk-parallel-item {display: flex;flex-direction: column;z-index: 1;position: relative;background-color: white;}#sk-container-id-10 div.sk-parallel-item:first-child::after {align-self: flex-end;width: 50%;}#sk-container-id-10 div.sk-parallel-item:last-child::after {align-self: flex-start;width: 50%;}#sk-container-id-10 div.sk-parallel-item:only-child::after {width: 0;}#sk-container-id-10 div.sk-dashed-wrapped {border: 1px dashed gray;margin: 0 0.4em 0.5em 0.4em;box-sizing: border-box;padding-bottom: 0.4em;background-color: white;}#sk-container-id-10 div.sk-label label {font-family: monospace;font-weight: bold;display: inline-block;line-height: 1.2em;}#sk-container-id-10 div.sk-label-container {text-align: center;}#sk-container-id-10 div.sk-container {/* jupyter's `normalize.less` sets `[hidden] { display: none; }` but bootstrap.min.css set `[hidden] { display: none !important; }` so we also need the `!important` here to be able to override the default hidden behavior on the sphinx rendered scikit-learn.org. See: https://github.com/scikit-learn/scikit-learn/issues/21755 */display: inline-block !important;position: relative;}#sk-container-id-10 div.sk-text-repr-fallback {display: none;}</style><div id=\"sk-container-id-10\" class=\"sk-top-container\"><div class=\"sk-text-repr-fallback\"><pre>Pipeline(memory=Memory(location=None),\n",
       "         steps=[(&#x27;numerical_imputer&#x27;,\n",
       "                 TransformerWrapper(exclude=None,\n",
       "                                    include=[&#x27;credit_score&#x27;, &#x27;age&#x27;, &#x27;tenure&#x27;,\n",
       "                                             &#x27;balance&#x27;, &#x27;products_number&#x27;,\n",
       "                                             &#x27;credit_card&#x27;, &#x27;active_member&#x27;,\n",
       "                                             &#x27;estimated_salary&#x27;,\n",
       "                                             &#x27;country_Germany&#x27;, &#x27;country_Spain&#x27;,\n",
       "                                             &#x27;gender_Male&#x27;, &#x27;k&#x27;],\n",
       "                                    transformer=SimpleImputer(add_indicator=False,\n",
       "                                                              copy=True,\n",
       "                                                              fill_value=None,\n",
       "                                                              keep_empty_...\n",
       "                                                              strategy=&#x27;most_frequent&#x27;,\n",
       "                                                              verbose=&#x27;deprecated&#x27;))),\n",
       "                (&#x27;actual_estimator&#x27;,\n",
       "                 CustomProbabilityThresholdClassifier(border_count=254,\n",
       "                                                      classifier=&lt;catboost.core.CatBoostClassifier object at 0x7f32f72a0df0&gt;,\n",
       "                                                      depth=6, eta=0.05,\n",
       "                                                      l2_leaf_reg=5,\n",
       "                                                      n_estimators=300,\n",
       "                                                      probability_threshold=0.421875,\n",
       "                                                      random_state=123,\n",
       "                                                      random_strength=0.7,\n",
       "                                                      task_type=&#x27;CPU&#x27;,\n",
       "                                                      verbose=False))],\n",
       "         verbose=False)</pre><b>In a Jupyter environment, please rerun this cell to show the HTML representation or trust the notebook. <br />On GitHub, the HTML representation is unable to render, please try loading this page with nbviewer.org.</b></div><div class=\"sk-container\" hidden><div class=\"sk-item sk-dashed-wrapped\"><div class=\"sk-label-container\"><div class=\"sk-label sk-toggleable\"><input class=\"sk-toggleable__control sk-hidden--visually\" id=\"sk-estimator-id-24\" type=\"checkbox\" ><label for=\"sk-estimator-id-24\" class=\"sk-toggleable__label sk-toggleable__label-arrow\">Pipeline</label><div class=\"sk-toggleable__content\"><pre>Pipeline(memory=Memory(location=None),\n",
       "         steps=[(&#x27;numerical_imputer&#x27;,\n",
       "                 TransformerWrapper(exclude=None,\n",
       "                                    include=[&#x27;credit_score&#x27;, &#x27;age&#x27;, &#x27;tenure&#x27;,\n",
       "                                             &#x27;balance&#x27;, &#x27;products_number&#x27;,\n",
       "                                             &#x27;credit_card&#x27;, &#x27;active_member&#x27;,\n",
       "                                             &#x27;estimated_salary&#x27;,\n",
       "                                             &#x27;country_Germany&#x27;, &#x27;country_Spain&#x27;,\n",
       "                                             &#x27;gender_Male&#x27;, &#x27;k&#x27;],\n",
       "                                    transformer=SimpleImputer(add_indicator=False,\n",
       "                                                              copy=True,\n",
       "                                                              fill_value=None,\n",
       "                                                              keep_empty_...\n",
       "                                                              strategy=&#x27;most_frequent&#x27;,\n",
       "                                                              verbose=&#x27;deprecated&#x27;))),\n",
       "                (&#x27;actual_estimator&#x27;,\n",
       "                 CustomProbabilityThresholdClassifier(border_count=254,\n",
       "                                                      classifier=&lt;catboost.core.CatBoostClassifier object at 0x7f32f72a0df0&gt;,\n",
       "                                                      depth=6, eta=0.05,\n",
       "                                                      l2_leaf_reg=5,\n",
       "                                                      n_estimators=300,\n",
       "                                                      probability_threshold=0.421875,\n",
       "                                                      random_state=123,\n",
       "                                                      random_strength=0.7,\n",
       "                                                      task_type=&#x27;CPU&#x27;,\n",
       "                                                      verbose=False))],\n",
       "         verbose=False)</pre></div></div></div><div class=\"sk-serial\"><div class=\"sk-item sk-dashed-wrapped\"><div class=\"sk-label-container\"><div class=\"sk-label sk-toggleable\"><input class=\"sk-toggleable__control sk-hidden--visually\" id=\"sk-estimator-id-25\" type=\"checkbox\" ><label for=\"sk-estimator-id-25\" class=\"sk-toggleable__label sk-toggleable__label-arrow\">numerical_imputer: TransformerWrapper</label><div class=\"sk-toggleable__content\"><pre>TransformerWrapper(exclude=None,\n",
       "                   include=[&#x27;credit_score&#x27;, &#x27;age&#x27;, &#x27;tenure&#x27;, &#x27;balance&#x27;,\n",
       "                            &#x27;products_number&#x27;, &#x27;credit_card&#x27;, &#x27;active_member&#x27;,\n",
       "                            &#x27;estimated_salary&#x27;, &#x27;country_Germany&#x27;,\n",
       "                            &#x27;country_Spain&#x27;, &#x27;gender_Male&#x27;, &#x27;k&#x27;],\n",
       "                   transformer=SimpleImputer(add_indicator=False, copy=True,\n",
       "                                             fill_value=None,\n",
       "                                             keep_empty_features=False,\n",
       "                                             missing_values=nan,\n",
       "                                             strategy=&#x27;mean&#x27;,\n",
       "                                             verbose=&#x27;deprecated&#x27;))</pre></div></div></div><div class=\"sk-parallel\"><div class=\"sk-parallel-item\"><div class=\"sk-item\"><div class=\"sk-label-container\"><div class=\"sk-label sk-toggleable\"><input class=\"sk-toggleable__control sk-hidden--visually\" id=\"sk-estimator-id-26\" type=\"checkbox\" ><label for=\"sk-estimator-id-26\" class=\"sk-toggleable__label sk-toggleable__label-arrow\">transformer: SimpleImputer</label><div class=\"sk-toggleable__content\"><pre>SimpleImputer()</pre></div></div></div><div class=\"sk-serial\"><div class=\"sk-item\"><div class=\"sk-estimator sk-toggleable\"><input class=\"sk-toggleable__control sk-hidden--visually\" id=\"sk-estimator-id-27\" type=\"checkbox\" ><label for=\"sk-estimator-id-27\" class=\"sk-toggleable__label sk-toggleable__label-arrow\">SimpleImputer</label><div class=\"sk-toggleable__content\"><pre>SimpleImputer()</pre></div></div></div></div></div></div></div></div><div class=\"sk-item sk-dashed-wrapped\"><div class=\"sk-label-container\"><div class=\"sk-label sk-toggleable\"><input class=\"sk-toggleable__control sk-hidden--visually\" id=\"sk-estimator-id-28\" type=\"checkbox\" ><label for=\"sk-estimator-id-28\" class=\"sk-toggleable__label sk-toggleable__label-arrow\">categorical_imputer: TransformerWrapper</label><div class=\"sk-toggleable__content\"><pre>TransformerWrapper(exclude=None, include=[],\n",
       "                   transformer=SimpleImputer(add_indicator=False, copy=True,\n",
       "                                             fill_value=None,\n",
       "                                             keep_empty_features=False,\n",
       "                                             missing_values=nan,\n",
       "                                             strategy=&#x27;most_frequent&#x27;,\n",
       "                                             verbose=&#x27;deprecated&#x27;))</pre></div></div></div><div class=\"sk-parallel\"><div class=\"sk-parallel-item\"><div class=\"sk-item\"><div class=\"sk-label-container\"><div class=\"sk-label sk-toggleable\"><input class=\"sk-toggleable__control sk-hidden--visually\" id=\"sk-estimator-id-29\" type=\"checkbox\" ><label for=\"sk-estimator-id-29\" class=\"sk-toggleable__label sk-toggleable__label-arrow\">transformer: SimpleImputer</label><div class=\"sk-toggleable__content\"><pre>SimpleImputer(strategy=&#x27;most_frequent&#x27;)</pre></div></div></div><div class=\"sk-serial\"><div class=\"sk-item\"><div class=\"sk-estimator sk-toggleable\"><input class=\"sk-toggleable__control sk-hidden--visually\" id=\"sk-estimator-id-30\" type=\"checkbox\" ><label for=\"sk-estimator-id-30\" class=\"sk-toggleable__label sk-toggleable__label-arrow\">SimpleImputer</label><div class=\"sk-toggleable__content\"><pre>SimpleImputer(strategy=&#x27;most_frequent&#x27;)</pre></div></div></div></div></div></div></div></div><div class=\"sk-item sk-dashed-wrapped\"><div class=\"sk-label-container\"><div class=\"sk-label sk-toggleable\"><input class=\"sk-toggleable__control sk-hidden--visually\" id=\"sk-estimator-id-31\" type=\"checkbox\" ><label for=\"sk-estimator-id-31\" class=\"sk-toggleable__label sk-toggleable__label-arrow\">actual_estimator: CustomProbabilityThresholdClassifier</label><div class=\"sk-toggleable__content\"><pre>CustomProbabilityThresholdClassifier(border_count=254,\n",
       "                                     classifier=&lt;catboost.core.CatBoostClassifier object at 0x7f32f72a0df0&gt;,\n",
       "                                     depth=6, eta=0.05, l2_leaf_reg=5,\n",
       "                                     n_estimators=300,\n",
       "                                     probability_threshold=0.421875,\n",
       "                                     random_state=123, random_strength=0.7,\n",
       "                                     task_type=&#x27;CPU&#x27;, verbose=False)</pre></div></div></div><div class=\"sk-parallel\"><div class=\"sk-parallel-item\"><div class=\"sk-item\"><div class=\"sk-label-container\"><div class=\"sk-label sk-toggleable\"><input class=\"sk-toggleable__control sk-hidden--visually\" id=\"sk-estimator-id-32\" type=\"checkbox\" ><label for=\"sk-estimator-id-32\" class=\"sk-toggleable__label sk-toggleable__label-arrow\">classifier: CatBoostClassifier</label><div class=\"sk-toggleable__content\"><pre>&lt;catboost.core.CatBoostClassifier object at 0x7f32f72a0df0&gt;</pre></div></div></div><div class=\"sk-serial\"><div class=\"sk-item\"><div class=\"sk-estimator sk-toggleable\"><input class=\"sk-toggleable__control sk-hidden--visually\" id=\"sk-estimator-id-33\" type=\"checkbox\" ><label for=\"sk-estimator-id-33\" class=\"sk-toggleable__label sk-toggleable__label-arrow\">CatBoostClassifier</label><div class=\"sk-toggleable__content\"><pre>&lt;catboost.core.CatBoostClassifier object at 0x7f32f72a0df0&gt;</pre></div></div></div></div></div></div></div></div></div></div></div></div>"
      ],
      "text/plain": [
       "Pipeline(memory=Memory(location=None),\n",
       "         steps=[('numerical_imputer',\n",
       "                 TransformerWrapper(exclude=None,\n",
       "                                    include=['credit_score', 'age', 'tenure',\n",
       "                                             'balance', 'products_number',\n",
       "                                             'credit_card', 'active_member',\n",
       "                                             'estimated_salary',\n",
       "                                             'country_Germany', 'country_Spain',\n",
       "                                             'gender_Male', 'k'],\n",
       "                                    transformer=SimpleImputer(add_indicator=False,\n",
       "                                                              copy=True,\n",
       "                                                              fill_value=None,\n",
       "                                                              keep_empty_...\n",
       "                                                              strategy='most_frequent',\n",
       "                                                              verbose='deprecated'))),\n",
       "                ('actual_estimator',\n",
       "                 CustomProbabilityThresholdClassifier(border_count=254,\n",
       "                                                      classifier=<catboost.core.CatBoostClassifier object at 0x7f32f72a0df0>,\n",
       "                                                      depth=6, eta=0.05,\n",
       "                                                      l2_leaf_reg=5,\n",
       "                                                      n_estimators=300,\n",
       "                                                      probability_threshold=0.421875,\n",
       "                                                      random_state=123,\n",
       "                                                      random_strength=0.7,\n",
       "                                                      task_type='CPU',\n",
       "                                                      verbose=False))],\n",
       "         verbose=False)"
      ]
     },
     "execution_count": 126,
     "metadata": {},
     "output_type": "execute_result"
    }
   ],
   "source": [
    "best_final = finalize_model(best_optimized)\n",
    "best_final"
   ]
  },
  {
   "cell_type": "code",
   "execution_count": 127,
   "metadata": {},
   "outputs": [
    {
     "name": "stdout",
     "output_type": "stream",
     "text": [
      "Transformation Pipeline and Model Successfully Saved\n"
     ]
    },
    {
     "data": {
      "text/plain": [
       "(Pipeline(memory=Memory(location=None),\n",
       "          steps=[('numerical_imputer',\n",
       "                  TransformerWrapper(exclude=None,\n",
       "                                     include=['credit_score', 'age', 'tenure',\n",
       "                                              'balance', 'products_number',\n",
       "                                              'credit_card', 'active_member',\n",
       "                                              'estimated_salary',\n",
       "                                              'country_Germany', 'country_Spain',\n",
       "                                              'gender_Male', 'k'],\n",
       "                                     transformer=SimpleImputer(add_indicator=False,\n",
       "                                                               copy=True,\n",
       "                                                               fill_value=None,\n",
       "                                                               keep_empty_...\n",
       "                                                               strategy='most_frequent',\n",
       "                                                               verbose='deprecated'))),\n",
       "                 ('actual_estimator',\n",
       "                  CustomProbabilityThresholdClassifier(border_count=254,\n",
       "                                                       classifier=<catboost.core.CatBoostClassifier object at 0x7f32f72a0df0>,\n",
       "                                                       depth=6, eta=0.05,\n",
       "                                                       l2_leaf_reg=5,\n",
       "                                                       n_estimators=300,\n",
       "                                                       probability_threshold=0.421875,\n",
       "                                                       random_state=123,\n",
       "                                                       random_strength=0.7,\n",
       "                                                       task_type='CPU',\n",
       "                                                       verbose=False))],\n",
       "          verbose=False),\n",
       " '05-04-best-final.pkl')"
      ]
     },
     "execution_count": 127,
     "metadata": {},
     "output_type": "execute_result"
    }
   ],
   "source": [
    "save_model(best_final, '05-04-best-final')"
   ]
  },
  {
   "cell_type": "code",
   "execution_count": 128,
   "metadata": {},
   "outputs": [
    {
     "name": "stdout",
     "output_type": "stream",
     "text": [
      "Transformation Pipeline and Model Successfully Loaded\n"
     ]
    },
    {
     "data": {
      "text/html": [
       "<style>#sk-container-id-11 {color: black;background-color: white;}#sk-container-id-11 pre{padding: 0;}#sk-container-id-11 div.sk-toggleable {background-color: white;}#sk-container-id-11 label.sk-toggleable__label {cursor: pointer;display: block;width: 100%;margin-bottom: 0;padding: 0.3em;box-sizing: border-box;text-align: center;}#sk-container-id-11 label.sk-toggleable__label-arrow:before {content: \"▸\";float: left;margin-right: 0.25em;color: #696969;}#sk-container-id-11 label.sk-toggleable__label-arrow:hover:before {color: black;}#sk-container-id-11 div.sk-estimator:hover label.sk-toggleable__label-arrow:before {color: black;}#sk-container-id-11 div.sk-toggleable__content {max-height: 0;max-width: 0;overflow: hidden;text-align: left;background-color: #f0f8ff;}#sk-container-id-11 div.sk-toggleable__content pre {margin: 0.2em;color: black;border-radius: 0.25em;background-color: #f0f8ff;}#sk-container-id-11 input.sk-toggleable__control:checked~div.sk-toggleable__content {max-height: 200px;max-width: 100%;overflow: auto;}#sk-container-id-11 input.sk-toggleable__control:checked~label.sk-toggleable__label-arrow:before {content: \"▾\";}#sk-container-id-11 div.sk-estimator input.sk-toggleable__control:checked~label.sk-toggleable__label {background-color: #d4ebff;}#sk-container-id-11 div.sk-label input.sk-toggleable__control:checked~label.sk-toggleable__label {background-color: #d4ebff;}#sk-container-id-11 input.sk-hidden--visually {border: 0;clip: rect(1px 1px 1px 1px);clip: rect(1px, 1px, 1px, 1px);height: 1px;margin: -1px;overflow: hidden;padding: 0;position: absolute;width: 1px;}#sk-container-id-11 div.sk-estimator {font-family: monospace;background-color: #f0f8ff;border: 1px dotted black;border-radius: 0.25em;box-sizing: border-box;margin-bottom: 0.5em;}#sk-container-id-11 div.sk-estimator:hover {background-color: #d4ebff;}#sk-container-id-11 div.sk-parallel-item::after {content: \"\";width: 100%;border-bottom: 1px solid gray;flex-grow: 1;}#sk-container-id-11 div.sk-label:hover label.sk-toggleable__label {background-color: #d4ebff;}#sk-container-id-11 div.sk-serial::before {content: \"\";position: absolute;border-left: 1px solid gray;box-sizing: border-box;top: 0;bottom: 0;left: 50%;z-index: 0;}#sk-container-id-11 div.sk-serial {display: flex;flex-direction: column;align-items: center;background-color: white;padding-right: 0.2em;padding-left: 0.2em;position: relative;}#sk-container-id-11 div.sk-item {position: relative;z-index: 1;}#sk-container-id-11 div.sk-parallel {display: flex;align-items: stretch;justify-content: center;background-color: white;position: relative;}#sk-container-id-11 div.sk-item::before, #sk-container-id-11 div.sk-parallel-item::before {content: \"\";position: absolute;border-left: 1px solid gray;box-sizing: border-box;top: 0;bottom: 0;left: 50%;z-index: -1;}#sk-container-id-11 div.sk-parallel-item {display: flex;flex-direction: column;z-index: 1;position: relative;background-color: white;}#sk-container-id-11 div.sk-parallel-item:first-child::after {align-self: flex-end;width: 50%;}#sk-container-id-11 div.sk-parallel-item:last-child::after {align-self: flex-start;width: 50%;}#sk-container-id-11 div.sk-parallel-item:only-child::after {width: 0;}#sk-container-id-11 div.sk-dashed-wrapped {border: 1px dashed gray;margin: 0 0.4em 0.5em 0.4em;box-sizing: border-box;padding-bottom: 0.4em;background-color: white;}#sk-container-id-11 div.sk-label label {font-family: monospace;font-weight: bold;display: inline-block;line-height: 1.2em;}#sk-container-id-11 div.sk-label-container {text-align: center;}#sk-container-id-11 div.sk-container {/* jupyter's `normalize.less` sets `[hidden] { display: none; }` but bootstrap.min.css set `[hidden] { display: none !important; }` so we also need the `!important` here to be able to override the default hidden behavior on the sphinx rendered scikit-learn.org. See: https://github.com/scikit-learn/scikit-learn/issues/21755 */display: inline-block !important;position: relative;}#sk-container-id-11 div.sk-text-repr-fallback {display: none;}</style><div id=\"sk-container-id-11\" class=\"sk-top-container\"><div class=\"sk-text-repr-fallback\"><pre>Pipeline(memory=FastMemory(location=/tmp/joblib),\n",
       "         steps=[(&#x27;numerical_imputer&#x27;,\n",
       "                 TransformerWrapper(exclude=None,\n",
       "                                    include=[&#x27;credit_score&#x27;, &#x27;age&#x27;, &#x27;tenure&#x27;,\n",
       "                                             &#x27;balance&#x27;, &#x27;products_number&#x27;,\n",
       "                                             &#x27;credit_card&#x27;, &#x27;active_member&#x27;,\n",
       "                                             &#x27;estimated_salary&#x27;,\n",
       "                                             &#x27;country_Germany&#x27;, &#x27;country_Spain&#x27;,\n",
       "                                             &#x27;gender_Male&#x27;, &#x27;k&#x27;],\n",
       "                                    transformer=SimpleImputer(add_indicator=False,\n",
       "                                                              copy=True,\n",
       "                                                              fill_value=None,...\n",
       "                                                              strategy=&#x27;most_frequent&#x27;,\n",
       "                                                              verbose=&#x27;deprecated&#x27;))),\n",
       "                (&#x27;actual_estimator&#x27;,\n",
       "                 CustomProbabilityThresholdClassifier(border_count=254,\n",
       "                                                      classifier=&lt;catboost.core.CatBoostClassifier object at 0x7f330d87ece0&gt;,\n",
       "                                                      depth=6, eta=0.05,\n",
       "                                                      l2_leaf_reg=5,\n",
       "                                                      n_estimators=300,\n",
       "                                                      probability_threshold=0.421875,\n",
       "                                                      random_state=123,\n",
       "                                                      random_strength=0.7,\n",
       "                                                      task_type=&#x27;CPU&#x27;,\n",
       "                                                      verbose=False))],\n",
       "         verbose=False)</pre><b>In a Jupyter environment, please rerun this cell to show the HTML representation or trust the notebook. <br />On GitHub, the HTML representation is unable to render, please try loading this page with nbviewer.org.</b></div><div class=\"sk-container\" hidden><div class=\"sk-item sk-dashed-wrapped\"><div class=\"sk-label-container\"><div class=\"sk-label sk-toggleable\"><input class=\"sk-toggleable__control sk-hidden--visually\" id=\"sk-estimator-id-34\" type=\"checkbox\" ><label for=\"sk-estimator-id-34\" class=\"sk-toggleable__label sk-toggleable__label-arrow\">Pipeline</label><div class=\"sk-toggleable__content\"><pre>Pipeline(memory=FastMemory(location=/tmp/joblib),\n",
       "         steps=[(&#x27;numerical_imputer&#x27;,\n",
       "                 TransformerWrapper(exclude=None,\n",
       "                                    include=[&#x27;credit_score&#x27;, &#x27;age&#x27;, &#x27;tenure&#x27;,\n",
       "                                             &#x27;balance&#x27;, &#x27;products_number&#x27;,\n",
       "                                             &#x27;credit_card&#x27;, &#x27;active_member&#x27;,\n",
       "                                             &#x27;estimated_salary&#x27;,\n",
       "                                             &#x27;country_Germany&#x27;, &#x27;country_Spain&#x27;,\n",
       "                                             &#x27;gender_Male&#x27;, &#x27;k&#x27;],\n",
       "                                    transformer=SimpleImputer(add_indicator=False,\n",
       "                                                              copy=True,\n",
       "                                                              fill_value=None,...\n",
       "                                                              strategy=&#x27;most_frequent&#x27;,\n",
       "                                                              verbose=&#x27;deprecated&#x27;))),\n",
       "                (&#x27;actual_estimator&#x27;,\n",
       "                 CustomProbabilityThresholdClassifier(border_count=254,\n",
       "                                                      classifier=&lt;catboost.core.CatBoostClassifier object at 0x7f330d87ece0&gt;,\n",
       "                                                      depth=6, eta=0.05,\n",
       "                                                      l2_leaf_reg=5,\n",
       "                                                      n_estimators=300,\n",
       "                                                      probability_threshold=0.421875,\n",
       "                                                      random_state=123,\n",
       "                                                      random_strength=0.7,\n",
       "                                                      task_type=&#x27;CPU&#x27;,\n",
       "                                                      verbose=False))],\n",
       "         verbose=False)</pre></div></div></div><div class=\"sk-serial\"><div class=\"sk-item sk-dashed-wrapped\"><div class=\"sk-label-container\"><div class=\"sk-label sk-toggleable\"><input class=\"sk-toggleable__control sk-hidden--visually\" id=\"sk-estimator-id-35\" type=\"checkbox\" ><label for=\"sk-estimator-id-35\" class=\"sk-toggleable__label sk-toggleable__label-arrow\">numerical_imputer: TransformerWrapper</label><div class=\"sk-toggleable__content\"><pre>TransformerWrapper(exclude=None,\n",
       "                   include=[&#x27;credit_score&#x27;, &#x27;age&#x27;, &#x27;tenure&#x27;, &#x27;balance&#x27;,\n",
       "                            &#x27;products_number&#x27;, &#x27;credit_card&#x27;, &#x27;active_member&#x27;,\n",
       "                            &#x27;estimated_salary&#x27;, &#x27;country_Germany&#x27;,\n",
       "                            &#x27;country_Spain&#x27;, &#x27;gender_Male&#x27;, &#x27;k&#x27;],\n",
       "                   transformer=SimpleImputer(add_indicator=False, copy=True,\n",
       "                                             fill_value=None,\n",
       "                                             keep_empty_features=False,\n",
       "                                             missing_values=nan,\n",
       "                                             strategy=&#x27;mean&#x27;,\n",
       "                                             verbose=&#x27;deprecated&#x27;))</pre></div></div></div><div class=\"sk-parallel\"><div class=\"sk-parallel-item\"><div class=\"sk-item\"><div class=\"sk-label-container\"><div class=\"sk-label sk-toggleable\"><input class=\"sk-toggleable__control sk-hidden--visually\" id=\"sk-estimator-id-36\" type=\"checkbox\" ><label for=\"sk-estimator-id-36\" class=\"sk-toggleable__label sk-toggleable__label-arrow\">transformer: SimpleImputer</label><div class=\"sk-toggleable__content\"><pre>SimpleImputer()</pre></div></div></div><div class=\"sk-serial\"><div class=\"sk-item\"><div class=\"sk-estimator sk-toggleable\"><input class=\"sk-toggleable__control sk-hidden--visually\" id=\"sk-estimator-id-37\" type=\"checkbox\" ><label for=\"sk-estimator-id-37\" class=\"sk-toggleable__label sk-toggleable__label-arrow\">SimpleImputer</label><div class=\"sk-toggleable__content\"><pre>SimpleImputer()</pre></div></div></div></div></div></div></div></div><div class=\"sk-item sk-dashed-wrapped\"><div class=\"sk-label-container\"><div class=\"sk-label sk-toggleable\"><input class=\"sk-toggleable__control sk-hidden--visually\" id=\"sk-estimator-id-38\" type=\"checkbox\" ><label for=\"sk-estimator-id-38\" class=\"sk-toggleable__label sk-toggleable__label-arrow\">categorical_imputer: TransformerWrapper</label><div class=\"sk-toggleable__content\"><pre>TransformerWrapper(exclude=None, include=[],\n",
       "                   transformer=SimpleImputer(add_indicator=False, copy=True,\n",
       "                                             fill_value=None,\n",
       "                                             keep_empty_features=False,\n",
       "                                             missing_values=nan,\n",
       "                                             strategy=&#x27;most_frequent&#x27;,\n",
       "                                             verbose=&#x27;deprecated&#x27;))</pre></div></div></div><div class=\"sk-parallel\"><div class=\"sk-parallel-item\"><div class=\"sk-item\"><div class=\"sk-label-container\"><div class=\"sk-label sk-toggleable\"><input class=\"sk-toggleable__control sk-hidden--visually\" id=\"sk-estimator-id-39\" type=\"checkbox\" ><label for=\"sk-estimator-id-39\" class=\"sk-toggleable__label sk-toggleable__label-arrow\">transformer: SimpleImputer</label><div class=\"sk-toggleable__content\"><pre>SimpleImputer(strategy=&#x27;most_frequent&#x27;)</pre></div></div></div><div class=\"sk-serial\"><div class=\"sk-item\"><div class=\"sk-estimator sk-toggleable\"><input class=\"sk-toggleable__control sk-hidden--visually\" id=\"sk-estimator-id-40\" type=\"checkbox\" ><label for=\"sk-estimator-id-40\" class=\"sk-toggleable__label sk-toggleable__label-arrow\">SimpleImputer</label><div class=\"sk-toggleable__content\"><pre>SimpleImputer(strategy=&#x27;most_frequent&#x27;)</pre></div></div></div></div></div></div></div></div><div class=\"sk-item sk-dashed-wrapped\"><div class=\"sk-label-container\"><div class=\"sk-label sk-toggleable\"><input class=\"sk-toggleable__control sk-hidden--visually\" id=\"sk-estimator-id-41\" type=\"checkbox\" ><label for=\"sk-estimator-id-41\" class=\"sk-toggleable__label sk-toggleable__label-arrow\">actual_estimator: CustomProbabilityThresholdClassifier</label><div class=\"sk-toggleable__content\"><pre>CustomProbabilityThresholdClassifier(border_count=254,\n",
       "                                     classifier=&lt;catboost.core.CatBoostClassifier object at 0x7f330d87ece0&gt;,\n",
       "                                     depth=6, eta=0.05, l2_leaf_reg=5,\n",
       "                                     n_estimators=300,\n",
       "                                     probability_threshold=0.421875,\n",
       "                                     random_state=123, random_strength=0.7,\n",
       "                                     task_type=&#x27;CPU&#x27;, verbose=False)</pre></div></div></div><div class=\"sk-parallel\"><div class=\"sk-parallel-item\"><div class=\"sk-item\"><div class=\"sk-label-container\"><div class=\"sk-label sk-toggleable\"><input class=\"sk-toggleable__control sk-hidden--visually\" id=\"sk-estimator-id-42\" type=\"checkbox\" ><label for=\"sk-estimator-id-42\" class=\"sk-toggleable__label sk-toggleable__label-arrow\">classifier: CatBoostClassifier</label><div class=\"sk-toggleable__content\"><pre>&lt;catboost.core.CatBoostClassifier object at 0x7f330d87ece0&gt;</pre></div></div></div><div class=\"sk-serial\"><div class=\"sk-item\"><div class=\"sk-estimator sk-toggleable\"><input class=\"sk-toggleable__control sk-hidden--visually\" id=\"sk-estimator-id-43\" type=\"checkbox\" ><label for=\"sk-estimator-id-43\" class=\"sk-toggleable__label sk-toggleable__label-arrow\">CatBoostClassifier</label><div class=\"sk-toggleable__content\"><pre>&lt;catboost.core.CatBoostClassifier object at 0x7f330d87ece0&gt;</pre></div></div></div></div></div></div></div></div></div></div></div></div>"
      ],
      "text/plain": [
       "Pipeline(memory=FastMemory(location=/tmp/joblib),\n",
       "         steps=[('numerical_imputer',\n",
       "                 TransformerWrapper(exclude=None,\n",
       "                                    include=['credit_score', 'age', 'tenure',\n",
       "                                             'balance', 'products_number',\n",
       "                                             'credit_card', 'active_member',\n",
       "                                             'estimated_salary',\n",
       "                                             'country_Germany', 'country_Spain',\n",
       "                                             'gender_Male', 'k'],\n",
       "                                    transformer=SimpleImputer(add_indicator=False,\n",
       "                                                              copy=True,\n",
       "                                                              fill_value=None,...\n",
       "                                                              strategy='most_frequent',\n",
       "                                                              verbose='deprecated'))),\n",
       "                ('actual_estimator',\n",
       "                 CustomProbabilityThresholdClassifier(border_count=254,\n",
       "                                                      classifier=<catboost.core.CatBoostClassifier object at 0x7f330d87ece0>,\n",
       "                                                      depth=6, eta=0.05,\n",
       "                                                      l2_leaf_reg=5,\n",
       "                                                      n_estimators=300,\n",
       "                                                      probability_threshold=0.421875,\n",
       "                                                      random_state=123,\n",
       "                                                      random_strength=0.7,\n",
       "                                                      task_type='CPU',\n",
       "                                                      verbose=False))],\n",
       "         verbose=False)"
      ]
     },
     "execution_count": 128,
     "metadata": {},
     "output_type": "execute_result"
    }
   ],
   "source": [
    "load_model('05-04-best-final')"
   ]
  },
  {
   "cell_type": "code",
   "execution_count": null,
   "metadata": {},
   "outputs": [],
   "source": []
  },
  {
   "cell_type": "markdown",
   "metadata": {},
   "source": [
    "# Deployment"
   ]
  },
  {
   "cell_type": "code",
   "execution_count": 129,
   "metadata": {},
   "outputs": [
    {
     "name": "stdout",
     "output_type": "stream",
     "text": [
      "API successfully created. This function only creates a POST API, it doesn't run it automatically. To run your API, please run this command --> !python churn_api.py\n"
     ]
    }
   ],
   "source": [
    "#create_api(best_final, '05-05-churn_api')\n",
    "#print(predictions.to_json(orient='records', indent=2))"
   ]
  },
  {
   "cell_type": "code",
   "execution_count": 130,
   "metadata": {},
   "outputs": [
    {
     "name": "stdout",
     "output_type": "stream",
     "text": [
      "Transformation Pipeline and Model Successfully Loaded\n",
      "\u001b[32mINFO\u001b[0m:     Started server process [\u001b[36m1070998\u001b[0m]\n",
      "\u001b[32mINFO\u001b[0m:     Waiting for application startup.\n",
      "\u001b[32mINFO\u001b[0m:     Application startup complete.\n",
      "\u001b[32mINFO\u001b[0m:     Uvicorn running on \u001b[1mhttp://127.0.0.1:8000\u001b[0m (Press CTRL+C to quit)\n",
      "\u001b[32mINFO\u001b[0m:     127.0.0.1:41934 - \"\u001b[1mGET / HTTP/1.1\u001b[0m\" \u001b[31m404 Not Found\u001b[0m\n",
      "\u001b[32mINFO\u001b[0m:     127.0.0.1:41934 - \"\u001b[1mGET /docs HTTP/1.1\u001b[0m\" \u001b[32m200 OK\u001b[0m\n",
      "\u001b[32mINFO\u001b[0m:     127.0.0.1:41934 - \"\u001b[1mGET /openapi.json HTTP/1.1\u001b[0m\" \u001b[32m200 OK\u001b[0m\n",
      "[\n",
      "  {\n",
      "    \"credit_score\":702.0,\n",
      "    \"age\":38.0,\n",
      "    \"tenure\":2.0,\n",
      "    \"balance\":0.0,\n",
      "    \"products_number\":1.0,\n",
      "    \"credit_card\":1.0,\n",
      "    \"active_member\":1.0,\n",
      "    \"estimated_salary\":161888.625,\n",
      "    \"country_Germany\":0.0,\n",
      "    \"country_Spain\":1.0,\n",
      "    \"gender_Male\":0.0,\n",
      "    \"k\":3.0,\n",
      "    \"prediction_label\":0,\n",
      "    \"prediction_score\":0.7777\n",
      "  }\n",
      "]\n",
      "\u001b[32mINFO\u001b[0m:     127.0.0.1:33270 - \"\u001b[1mPOST /predict HTTP/1.1\u001b[0m\" \u001b[32m200 OK\u001b[0m\n",
      "[\n",
      "  {\n",
      "    \"credit_score\":702.0,\n",
      "    \"age\":38.0,\n",
      "    \"tenure\":2.0,\n",
      "    \"balance\":0.0,\n",
      "    \"products_number\":1.0,\n",
      "    \"credit_card\":1.0,\n",
      "    \"active_member\":0.0,\n",
      "    \"estimated_salary\":161888.625,\n",
      "    \"country_Germany\":1.0,\n",
      "    \"country_Spain\":0.0,\n",
      "    \"gender_Male\":0.0,\n",
      "    \"k\":3.0,\n",
      "    \"prediction_label\":0,\n",
      "    \"prediction_score\":0.9165\n",
      "  }\n",
      "]\n",
      "\u001b[32mINFO\u001b[0m:     127.0.0.1:45738 - \"\u001b[1mPOST /predict HTTP/1.1\u001b[0m\" \u001b[32m200 OK\u001b[0m\n",
      "[\n",
      "  {\n",
      "    \"credit_score\":619.0,\n",
      "    \"age\":42.0,\n",
      "    \"tenure\":2.0,\n",
      "    \"balance\":0.0,\n",
      "    \"products_number\":1.0,\n",
      "    \"credit_card\":1.0,\n",
      "    \"active_member\":1.0,\n",
      "    \"estimated_salary\":100000.625,\n",
      "    \"country_Germany\":1.0,\n",
      "    \"country_Spain\":0.0,\n",
      "    \"gender_Male\":0.0,\n",
      "    \"k\":3.0,\n",
      "    \"prediction_label\":0,\n",
      "    \"prediction_score\":0.9062\n",
      "  }\n",
      "]\n",
      "\u001b[32mINFO\u001b[0m:     127.0.0.1:56386 - \"\u001b[1mPOST /predict HTTP/1.1\u001b[0m\" \u001b[32m200 OK\u001b[0m\n",
      "[\n",
      "  {\n",
      "    \"credit_score\":619.0,\n",
      "    \"age\":39.0,\n",
      "    \"tenure\":9.0,\n",
      "    \"balance\":137000.0,\n",
      "    \"products_number\":1.0,\n",
      "    \"credit_card\":1.0,\n",
      "    \"active_member\":1.0,\n",
      "    \"estimated_salary\":100000.625,\n",
      "    \"country_Germany\":1.0,\n",
      "    \"country_Spain\":0.0,\n",
      "    \"gender_Male\":0.0,\n",
      "    \"k\":3.0,\n",
      "    \"prediction_label\":0,\n",
      "    \"prediction_score\":0.7021\n",
      "  }\n",
      "]\n",
      "\u001b[32mINFO\u001b[0m:     127.0.0.1:47818 - \"\u001b[1mPOST /predict HTTP/1.1\u001b[0m\" \u001b[32m200 OK\u001b[0m\n",
      "[\n",
      "  {\n",
      "    \"credit_score\":619.0,\n",
      "    \"age\":39.0,\n",
      "    \"tenure\":9.0,\n",
      "    \"balance\":137000.0,\n",
      "    \"products_number\":1.0,\n",
      "    \"credit_card\":1.0,\n",
      "    \"active_member\":1.0,\n",
      "    \"estimated_salary\":100000.625,\n",
      "    \"country_Germany\":1.0,\n",
      "    \"country_Spain\":0.0,\n",
      "    \"gender_Male\":0.0,\n",
      "    \"k\":1.0,\n",
      "    \"prediction_label\":0,\n",
      "    \"prediction_score\":0.6405\n",
      "  }\n",
      "]\n",
      "\u001b[32mINFO\u001b[0m:     127.0.0.1:55674 - \"\u001b[1mPOST /predict HTTP/1.1\u001b[0m\" \u001b[32m200 OK\u001b[0m\n",
      "[\n",
      "  {\n",
      "    \"credit_score\":619.0,\n",
      "    \"age\":39.0,\n",
      "    \"tenure\":9.0,\n",
      "    \"balance\":137000.0,\n",
      "    \"products_number\":1.0,\n",
      "    \"credit_card\":1.0,\n",
      "    \"active_member\":1.0,\n",
      "    \"estimated_salary\":50000.625,\n",
      "    \"country_Germany\":1.0,\n",
      "    \"country_Spain\":0.0,\n",
      "    \"gender_Male\":0.0,\n",
      "    \"k\":1.0,\n",
      "    \"prediction_label\":0,\n",
      "    \"prediction_score\":0.6308\n",
      "  }\n",
      "]\n",
      "\u001b[32mINFO\u001b[0m:     127.0.0.1:39244 - \"\u001b[1mPOST /predict HTTP/1.1\u001b[0m\" \u001b[32m200 OK\u001b[0m\n",
      "[\n",
      "  {\n",
      "    \"credit_score\":500.0,\n",
      "    \"age\":39.0,\n",
      "    \"tenure\":9.0,\n",
      "    \"balance\":137000.0,\n",
      "    \"products_number\":1.0,\n",
      "    \"credit_card\":1.0,\n",
      "    \"active_member\":1.0,\n",
      "    \"estimated_salary\":50000.625,\n",
      "    \"country_Germany\":1.0,\n",
      "    \"country_Spain\":0.0,\n",
      "    \"gender_Male\":0.0,\n",
      "    \"k\":1.0,\n",
      "    \"prediction_label\":0,\n",
      "    \"prediction_score\":0.7493\n",
      "  }\n",
      "]\n",
      "\u001b[32mINFO\u001b[0m:     127.0.0.1:44360 - \"\u001b[1mPOST /predict HTTP/1.1\u001b[0m\" \u001b[32m200 OK\u001b[0m\n",
      "[\n",
      "  {\n",
      "    \"credit_score\":700.0,\n",
      "    \"age\":39.0,\n",
      "    \"tenure\":9.0,\n",
      "    \"balance\":137000.0,\n",
      "    \"products_number\":1.0,\n",
      "    \"credit_card\":1.0,\n",
      "    \"active_member\":1.0,\n",
      "    \"estimated_salary\":50000.625,\n",
      "    \"country_Germany\":1.0,\n",
      "    \"country_Spain\":0.0,\n",
      "    \"gender_Male\":0.0,\n",
      "    \"k\":1.0,\n",
      "    \"prediction_label\":0,\n",
      "    \"prediction_score\":0.5957\n",
      "  }\n",
      "]\n",
      "\u001b[32mINFO\u001b[0m:     127.0.0.1:43502 - \"\u001b[1mPOST /predict HTTP/1.1\u001b[0m\" \u001b[32m200 OK\u001b[0m\n",
      "[\n",
      "  {\n",
      "    \"credit_score\":800.0,\n",
      "    \"age\":39.0,\n",
      "    \"tenure\":9.0,\n",
      "    \"balance\":137000.0,\n",
      "    \"products_number\":1.0,\n",
      "    \"credit_card\":1.0,\n",
      "    \"active_member\":1.0,\n",
      "    \"estimated_salary\":50000.625,\n",
      "    \"country_Germany\":1.0,\n",
      "    \"country_Spain\":0.0,\n",
      "    \"gender_Male\":0.0,\n",
      "    \"k\":1.0,\n",
      "    \"prediction_label\":1,\n",
      "    \"prediction_score\":0.4739\n",
      "  }\n",
      "]\n",
      "\u001b[32mINFO\u001b[0m:     127.0.0.1:43518 - \"\u001b[1mPOST /predict HTTP/1.1\u001b[0m\" \u001b[32m200 OK\u001b[0m\n",
      "[\n",
      "  {\n",
      "    \"credit_score\":800.0,\n",
      "    \"age\":20.0,\n",
      "    \"tenure\":9.0,\n",
      "    \"balance\":137000.0,\n",
      "    \"products_number\":1.0,\n",
      "    \"credit_card\":1.0,\n",
      "    \"active_member\":1.0,\n",
      "    \"estimated_salary\":50000.625,\n",
      "    \"country_Germany\":1.0,\n",
      "    \"country_Spain\":0.0,\n",
      "    \"gender_Male\":0.0,\n",
      "    \"k\":1.0,\n",
      "    \"prediction_label\":0,\n",
      "    \"prediction_score\":0.6472\n",
      "  }\n",
      "]\n",
      "\u001b[32mINFO\u001b[0m:     127.0.0.1:60686 - \"\u001b[1mPOST /predict HTTP/1.1\u001b[0m\" \u001b[32m200 OK\u001b[0m\n",
      "^C\n",
      "\u001b[32mINFO\u001b[0m:     Shutting down\n",
      "\u001b[32mINFO\u001b[0m:     Waiting for application shutdown.\n",
      "\u001b[32mINFO\u001b[0m:     Application shutdown complete.\n",
      "\u001b[32mINFO\u001b[0m:     Finished server process [\u001b[36m1070998\u001b[0m]\n"
     ]
    }
   ],
   "source": [
    "!python3 05-05-churn_api.py"
   ]
  },
  {
   "cell_type": "code",
   "execution_count": null,
   "metadata": {},
   "outputs": [],
   "source": []
  }
 ],
 "metadata": {
  "kernelspec": {
   "display_name": "Python 3",
   "language": "python",
   "name": "python3"
  },
  "language_info": {
   "codemirror_mode": {
    "name": "ipython",
    "version": 3
   },
   "file_extension": ".py",
   "mimetype": "text/x-python",
   "name": "python",
   "nbconvert_exporter": "python",
   "pygments_lexer": "ipython3",
   "version": "3.10.12"
  }
 },
 "nbformat": 4,
 "nbformat_minor": 2
}
